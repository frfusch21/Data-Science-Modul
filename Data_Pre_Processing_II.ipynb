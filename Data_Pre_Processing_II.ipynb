{
  "nbformat": 4,
  "nbformat_minor": 0,
  "metadata": {
    "colab": {
      "provenance": []
    },
    "kernelspec": {
      "name": "python3",
      "display_name": "Python 3"
    },
    "language_info": {
      "name": "python"
    }
  },
  "cells": [
    {
      "cell_type": "code",
      "source": [
        "#import library\n",
        "import pandas as pd\n",
        "import numpy as np\n",
        "\n",
        "#machine learning library\n",
        "from sklearn.preprocessing import LabelEncoder, OneHotEncoder, StandardScaler, MinMaxScaler\n",
        "from sklearn.model_selection import train_test_split, GridSearchCV, learning_curve\n",
        "from sklearn.naive_bayes import MultinomialNB\n",
        "from sklearn.linear_model import LogisticRegression\n",
        "from sklearn.ensemble import GradientBoostingClassifier\n",
        "from sklearn.metrics import classification_report, accuracy_score, confusion_matrix\n",
        "from imblearn.over_sampling import RandomOverSampler\n",
        "from imblearn.under_sampling import RandomUnderSampler\n",
        "from collections import Counter\n",
        "\n",
        "#wordcloud library\n",
        "from wordcloud import WordCloud, STOPWORDS\n",
        "import datetime, nltk\n",
        "import string\n",
        "from nltk.corpus import stopwords\n",
        "from nltk.tokenize import word_tokenize\n",
        "from nltk.stem import PorterStemmer\n",
        "from nltk.stem.wordnet import WordNetLemmatizer\n",
        "from sklearn.feature_extraction.text import CountVectorizer\n",
        "from sklearn.feature_extraction.text import TfidfVectorizer\n",
        "\n",
        "#nltk\n",
        "nltk.download('stopwords')\n",
        "nltk.download('punkt')\n",
        "nltk.download('wordnet')\n",
        "nltk.download('omw-1.4')"
      ],
      "metadata": {
        "id": "wF0twsnnayEN",
        "colab": {
          "base_uri": "https://localhost:8080/"
        },
        "outputId": "619d21f7-328c-4667-ef81-bfd6e3a554e2"
      },
      "execution_count": null,
      "outputs": [
        {
          "output_type": "stream",
          "name": "stderr",
          "text": [
            "[nltk_data] Downloading package stopwords to /root/nltk_data...\n",
            "[nltk_data]   Package stopwords is already up-to-date!\n",
            "[nltk_data] Downloading package punkt to /root/nltk_data...\n",
            "[nltk_data]   Package punkt is already up-to-date!\n",
            "[nltk_data] Downloading package wordnet to /root/nltk_data...\n",
            "[nltk_data]   Package wordnet is already up-to-date!\n",
            "[nltk_data] Downloading package omw-1.4 to /root/nltk_data...\n",
            "[nltk_data]   Package omw-1.4 is already up-to-date!\n"
          ]
        },
        {
          "output_type": "execute_result",
          "data": {
            "text/plain": [
              "True"
            ]
          },
          "metadata": {},
          "execution_count": 1
        }
      ]
    },
    {
      "cell_type": "markdown",
      "source": [
        "# **Handling Imbalance Data**"
      ],
      "metadata": {
        "id": "_jqiNALsafzA"
      }
    },
    {
      "cell_type": "code",
      "execution_count": null,
      "metadata": {
        "colab": {
          "base_uri": "https://localhost:8080/",
          "height": 716
        },
        "id": "UDoAs8ZuaS-G",
        "outputId": "4da93b76-45c0-4e95-88f2-b950ec6ee584"
      },
      "outputs": [
        {
          "output_type": "stream",
          "name": "stdout",
          "text": [
            "Diabetes data contain 54808 rows and 13 columns \n",
            "\n",
            "<class 'pandas.core.frame.DataFrame'>\n",
            "RangeIndex: 54808 entries, 0 to 54807\n",
            "Data columns (total 13 columns):\n",
            " #   Column                Non-Null Count  Dtype  \n",
            "---  ------                --------------  -----  \n",
            " 0   employee_id           54808 non-null  int64  \n",
            " 1   department            54808 non-null  object \n",
            " 2   region                54808 non-null  object \n",
            " 3   education             52399 non-null  object \n",
            " 4   gender                54808 non-null  object \n",
            " 5   recruitment_channel   54808 non-null  object \n",
            " 6   no_of_trainings       54808 non-null  int64  \n",
            " 7   age                   54808 non-null  int64  \n",
            " 8   previous_year_rating  50684 non-null  float64\n",
            " 9   length_of_service     54808 non-null  int64  \n",
            " 10  awards_won            54808 non-null  int64  \n",
            " 11  avg_training_score    52248 non-null  float64\n",
            " 12  is_promoted           54808 non-null  int64  \n",
            "dtypes: float64(2), int64(6), object(5)\n",
            "memory usage: 5.4+ MB\n",
            "None \n",
            "\n"
          ]
        },
        {
          "output_type": "execute_result",
          "data": {
            "text/plain": [
              "        employee_id  no_of_trainings           age  previous_year_rating  \\\n",
              "count  54808.000000     54808.000000  54808.000000          50684.000000   \n",
              "mean   39195.830627         1.253011     34.803915              3.329256   \n",
              "std    22586.581449         0.609264      7.660169              1.259993   \n",
              "min        1.000000         1.000000     20.000000              1.000000   \n",
              "25%    19669.750000         1.000000     29.000000              3.000000   \n",
              "50%    39225.500000         1.000000     33.000000              3.000000   \n",
              "75%    58730.500000         1.000000     39.000000              4.000000   \n",
              "max    78298.000000        10.000000     60.000000              5.000000   \n",
              "\n",
              "       length_of_service    awards_won  avg_training_score   is_promoted  \n",
              "count       54808.000000  54808.000000        52248.000000  54808.000000  \n",
              "mean            5.865512      0.023172           63.712238      0.085170  \n",
              "std             4.265094      0.150450           13.521910      0.279137  \n",
              "min             1.000000      0.000000           39.000000      0.000000  \n",
              "25%             3.000000      0.000000           51.000000      0.000000  \n",
              "50%             5.000000      0.000000           60.000000      0.000000  \n",
              "75%             7.000000      0.000000           77.000000      0.000000  \n",
              "max            37.000000      1.000000           99.000000      1.000000  "
            ],
            "text/html": [
              "\n",
              "\n",
              "  <div id=\"df-793affa4-31f4-476c-b99b-13952ad00969\">\n",
              "    <div class=\"colab-df-container\">\n",
              "      <div>\n",
              "<style scoped>\n",
              "    .dataframe tbody tr th:only-of-type {\n",
              "        vertical-align: middle;\n",
              "    }\n",
              "\n",
              "    .dataframe tbody tr th {\n",
              "        vertical-align: top;\n",
              "    }\n",
              "\n",
              "    .dataframe thead th {\n",
              "        text-align: right;\n",
              "    }\n",
              "</style>\n",
              "<table border=\"1\" class=\"dataframe\">\n",
              "  <thead>\n",
              "    <tr style=\"text-align: right;\">\n",
              "      <th></th>\n",
              "      <th>employee_id</th>\n",
              "      <th>no_of_trainings</th>\n",
              "      <th>age</th>\n",
              "      <th>previous_year_rating</th>\n",
              "      <th>length_of_service</th>\n",
              "      <th>awards_won</th>\n",
              "      <th>avg_training_score</th>\n",
              "      <th>is_promoted</th>\n",
              "    </tr>\n",
              "  </thead>\n",
              "  <tbody>\n",
              "    <tr>\n",
              "      <th>count</th>\n",
              "      <td>54808.000000</td>\n",
              "      <td>54808.000000</td>\n",
              "      <td>54808.000000</td>\n",
              "      <td>50684.000000</td>\n",
              "      <td>54808.000000</td>\n",
              "      <td>54808.000000</td>\n",
              "      <td>52248.000000</td>\n",
              "      <td>54808.000000</td>\n",
              "    </tr>\n",
              "    <tr>\n",
              "      <th>mean</th>\n",
              "      <td>39195.830627</td>\n",
              "      <td>1.253011</td>\n",
              "      <td>34.803915</td>\n",
              "      <td>3.329256</td>\n",
              "      <td>5.865512</td>\n",
              "      <td>0.023172</td>\n",
              "      <td>63.712238</td>\n",
              "      <td>0.085170</td>\n",
              "    </tr>\n",
              "    <tr>\n",
              "      <th>std</th>\n",
              "      <td>22586.581449</td>\n",
              "      <td>0.609264</td>\n",
              "      <td>7.660169</td>\n",
              "      <td>1.259993</td>\n",
              "      <td>4.265094</td>\n",
              "      <td>0.150450</td>\n",
              "      <td>13.521910</td>\n",
              "      <td>0.279137</td>\n",
              "    </tr>\n",
              "    <tr>\n",
              "      <th>min</th>\n",
              "      <td>1.000000</td>\n",
              "      <td>1.000000</td>\n",
              "      <td>20.000000</td>\n",
              "      <td>1.000000</td>\n",
              "      <td>1.000000</td>\n",
              "      <td>0.000000</td>\n",
              "      <td>39.000000</td>\n",
              "      <td>0.000000</td>\n",
              "    </tr>\n",
              "    <tr>\n",
              "      <th>25%</th>\n",
              "      <td>19669.750000</td>\n",
              "      <td>1.000000</td>\n",
              "      <td>29.000000</td>\n",
              "      <td>3.000000</td>\n",
              "      <td>3.000000</td>\n",
              "      <td>0.000000</td>\n",
              "      <td>51.000000</td>\n",
              "      <td>0.000000</td>\n",
              "    </tr>\n",
              "    <tr>\n",
              "      <th>50%</th>\n",
              "      <td>39225.500000</td>\n",
              "      <td>1.000000</td>\n",
              "      <td>33.000000</td>\n",
              "      <td>3.000000</td>\n",
              "      <td>5.000000</td>\n",
              "      <td>0.000000</td>\n",
              "      <td>60.000000</td>\n",
              "      <td>0.000000</td>\n",
              "    </tr>\n",
              "    <tr>\n",
              "      <th>75%</th>\n",
              "      <td>58730.500000</td>\n",
              "      <td>1.000000</td>\n",
              "      <td>39.000000</td>\n",
              "      <td>4.000000</td>\n",
              "      <td>7.000000</td>\n",
              "      <td>0.000000</td>\n",
              "      <td>77.000000</td>\n",
              "      <td>0.000000</td>\n",
              "    </tr>\n",
              "    <tr>\n",
              "      <th>max</th>\n",
              "      <td>78298.000000</td>\n",
              "      <td>10.000000</td>\n",
              "      <td>60.000000</td>\n",
              "      <td>5.000000</td>\n",
              "      <td>37.000000</td>\n",
              "      <td>1.000000</td>\n",
              "      <td>99.000000</td>\n",
              "      <td>1.000000</td>\n",
              "    </tr>\n",
              "  </tbody>\n",
              "</table>\n",
              "</div>\n",
              "      <button class=\"colab-df-convert\" onclick=\"convertToInteractive('df-793affa4-31f4-476c-b99b-13952ad00969')\"\n",
              "              title=\"Convert this dataframe to an interactive table.\"\n",
              "              style=\"display:none;\">\n",
              "\n",
              "  <svg xmlns=\"http://www.w3.org/2000/svg\" height=\"24px\"viewBox=\"0 0 24 24\"\n",
              "       width=\"24px\">\n",
              "    <path d=\"M0 0h24v24H0V0z\" fill=\"none\"/>\n",
              "    <path d=\"M18.56 5.44l.94 2.06.94-2.06 2.06-.94-2.06-.94-.94-2.06-.94 2.06-2.06.94zm-11 1L8.5 8.5l.94-2.06 2.06-.94-2.06-.94L8.5 2.5l-.94 2.06-2.06.94zm10 10l.94 2.06.94-2.06 2.06-.94-2.06-.94-.94-2.06-.94 2.06-2.06.94z\"/><path d=\"M17.41 7.96l-1.37-1.37c-.4-.4-.92-.59-1.43-.59-.52 0-1.04.2-1.43.59L10.3 9.45l-7.72 7.72c-.78.78-.78 2.05 0 2.83L4 21.41c.39.39.9.59 1.41.59.51 0 1.02-.2 1.41-.59l7.78-7.78 2.81-2.81c.8-.78.8-2.07 0-2.86zM5.41 20L4 18.59l7.72-7.72 1.47 1.35L5.41 20z\"/>\n",
              "  </svg>\n",
              "      </button>\n",
              "\n",
              "\n",
              "\n",
              "    <div id=\"df-be14943b-6161-425c-8831-0d6939b4f0b0\">\n",
              "      <button class=\"colab-df-quickchart\" onclick=\"quickchart('df-be14943b-6161-425c-8831-0d6939b4f0b0')\"\n",
              "              title=\"Suggest charts.\"\n",
              "              style=\"display:none;\">\n",
              "\n",
              "<svg xmlns=\"http://www.w3.org/2000/svg\" height=\"24px\"viewBox=\"0 0 24 24\"\n",
              "     width=\"24px\">\n",
              "    <g>\n",
              "        <path d=\"M19 3H5c-1.1 0-2 .9-2 2v14c0 1.1.9 2 2 2h14c1.1 0 2-.9 2-2V5c0-1.1-.9-2-2-2zM9 17H7v-7h2v7zm4 0h-2V7h2v10zm4 0h-2v-4h2v4z\"/>\n",
              "    </g>\n",
              "</svg>\n",
              "      </button>\n",
              "    </div>\n",
              "\n",
              "<style>\n",
              "  .colab-df-quickchart {\n",
              "    background-color: #E8F0FE;\n",
              "    border: none;\n",
              "    border-radius: 50%;\n",
              "    cursor: pointer;\n",
              "    display: none;\n",
              "    fill: #1967D2;\n",
              "    height: 32px;\n",
              "    padding: 0 0 0 0;\n",
              "    width: 32px;\n",
              "  }\n",
              "\n",
              "  .colab-df-quickchart:hover {\n",
              "    background-color: #E2EBFA;\n",
              "    box-shadow: 0px 1px 2px rgba(60, 64, 67, 0.3), 0px 1px 3px 1px rgba(60, 64, 67, 0.15);\n",
              "    fill: #174EA6;\n",
              "  }\n",
              "\n",
              "  [theme=dark] .colab-df-quickchart {\n",
              "    background-color: #3B4455;\n",
              "    fill: #D2E3FC;\n",
              "  }\n",
              "\n",
              "  [theme=dark] .colab-df-quickchart:hover {\n",
              "    background-color: #434B5C;\n",
              "    box-shadow: 0px 1px 3px 1px rgba(0, 0, 0, 0.15);\n",
              "    filter: drop-shadow(0px 1px 2px rgba(0, 0, 0, 0.3));\n",
              "    fill: #FFFFFF;\n",
              "  }\n",
              "</style>\n",
              "\n",
              "    <script>\n",
              "      async function quickchart(key) {\n",
              "        const containerElement = document.querySelector('#' + key);\n",
              "        const charts = await google.colab.kernel.invokeFunction(\n",
              "            'suggestCharts', [key], {});\n",
              "      }\n",
              "    </script>\n",
              "\n",
              "      <script>\n",
              "\n",
              "function displayQuickchartButton(domScope) {\n",
              "  let quickchartButtonEl =\n",
              "    domScope.querySelector('#df-be14943b-6161-425c-8831-0d6939b4f0b0 button.colab-df-quickchart');\n",
              "  quickchartButtonEl.style.display =\n",
              "    google.colab.kernel.accessAllowed ? 'block' : 'none';\n",
              "}\n",
              "\n",
              "        displayQuickchartButton(document);\n",
              "      </script>\n",
              "      <style>\n",
              "    .colab-df-container {\n",
              "      display:flex;\n",
              "      flex-wrap:wrap;\n",
              "      gap: 12px;\n",
              "    }\n",
              "\n",
              "    .colab-df-convert {\n",
              "      background-color: #E8F0FE;\n",
              "      border: none;\n",
              "      border-radius: 50%;\n",
              "      cursor: pointer;\n",
              "      display: none;\n",
              "      fill: #1967D2;\n",
              "      height: 32px;\n",
              "      padding: 0 0 0 0;\n",
              "      width: 32px;\n",
              "    }\n",
              "\n",
              "    .colab-df-convert:hover {\n",
              "      background-color: #E2EBFA;\n",
              "      box-shadow: 0px 1px 2px rgba(60, 64, 67, 0.3), 0px 1px 3px 1px rgba(60, 64, 67, 0.15);\n",
              "      fill: #174EA6;\n",
              "    }\n",
              "\n",
              "    [theme=dark] .colab-df-convert {\n",
              "      background-color: #3B4455;\n",
              "      fill: #D2E3FC;\n",
              "    }\n",
              "\n",
              "    [theme=dark] .colab-df-convert:hover {\n",
              "      background-color: #434B5C;\n",
              "      box-shadow: 0px 1px 3px 1px rgba(0, 0, 0, 0.15);\n",
              "      filter: drop-shadow(0px 1px 2px rgba(0, 0, 0, 0.3));\n",
              "      fill: #FFFFFF;\n",
              "    }\n",
              "  </style>\n",
              "\n",
              "      <script>\n",
              "        const buttonEl =\n",
              "          document.querySelector('#df-793affa4-31f4-476c-b99b-13952ad00969 button.colab-df-convert');\n",
              "        buttonEl.style.display =\n",
              "          google.colab.kernel.accessAllowed ? 'block' : 'none';\n",
              "\n",
              "        async function convertToInteractive(key) {\n",
              "          const element = document.querySelector('#df-793affa4-31f4-476c-b99b-13952ad00969');\n",
              "          const dataTable =\n",
              "            await google.colab.kernel.invokeFunction('convertToInteractive',\n",
              "                                                     [key], {});\n",
              "          if (!dataTable) return;\n",
              "\n",
              "          const docLinkHtml = 'Like what you see? Visit the ' +\n",
              "            '<a target=\"_blank\" href=https://colab.research.google.com/notebooks/data_table.ipynb>data table notebook</a>'\n",
              "            + ' to learn more about interactive tables.';\n",
              "          element.innerHTML = '';\n",
              "          dataTable['output_type'] = 'display_data';\n",
              "          await google.colab.output.renderOutput(dataTable, element);\n",
              "          const docLink = document.createElement('div');\n",
              "          docLink.innerHTML = docLinkHtml;\n",
              "          element.appendChild(docLink);\n",
              "        }\n",
              "      </script>\n",
              "    </div>\n",
              "  </div>\n"
            ]
          },
          "metadata": {},
          "execution_count": 3
        }
      ],
      "source": [
        "# human capital\n",
        "human_cap = pd.read_csv(\"https://raw.githubusercontent.com/densaiko/data_science_learning/main/dataset/Human%20Capital.csv\")\n",
        "print(\"Diabetes data contain {} rows and {} columns \\n\".format(human_cap.shape[0], human_cap.shape[1]))\n",
        "print(human_cap.info(), '\\n')\n",
        "human_cap.describe()"
      ]
    },
    {
      "cell_type": "code",
      "source": [
        "def label_encoding(data):\n",
        "  \"\"\"\n",
        "  Let's encode the non_numerical data into a numerical value\n",
        "  data: your dataset\n",
        "  \"\"\"\n",
        "\n",
        "  data_new = data.copy()\n",
        "  data_new = data_new.dropna()\n",
        "\n",
        "  #find non numerical variable/field\n",
        "  object_data = data_new.select_dtypes(include=['object']).columns.to_list()\n",
        "\n",
        "  #label encoder object\n",
        "  label_encoding = LabelEncoder()\n",
        "\n",
        "  #encode the data into a label\n",
        "  for i in object_data:\n",
        "    data_new[i] = label_encoding.fit_transform(data_new[i])\n",
        "\n",
        "  return data_new"
      ],
      "metadata": {
        "id": "jAZnfFI3a07T"
      },
      "execution_count": null,
      "outputs": []
    },
    {
      "cell_type": "code",
      "source": [
        "new_human_cap = label_encoding(human_cap)\n",
        "new_human_cap.head()"
      ],
      "metadata": {
        "colab": {
          "base_uri": "https://localhost:8080/",
          "height": 250
        },
        "id": "Doncs8iNa_hJ",
        "outputId": "58450692-ff9e-43c8-b6d1-bf9e358dfb6c"
      },
      "execution_count": null,
      "outputs": [
        {
          "output_type": "execute_result",
          "data": {
            "text/plain": [
              "   employee_id  department  region  education  gender  recruitment_channel  \\\n",
              "0        65438           7      31          2       0                    2   \n",
              "1        65141           4      14          0       1                    0   \n",
              "2         7513           7      10          0       1                    2   \n",
              "3         2542           7      15          0       1                    0   \n",
              "4        48945           8      18          0       1                    0   \n",
              "\n",
              "   no_of_trainings  age  previous_year_rating  length_of_service  awards_won  \\\n",
              "0                1   35                   5.0                  8           0   \n",
              "1                1   30                   5.0                  4           0   \n",
              "2                1   34                   3.0                  7           0   \n",
              "3                2   39                   1.0                 10           0   \n",
              "4                1   45                   3.0                  2           0   \n",
              "\n",
              "   avg_training_score  is_promoted  \n",
              "0                49.0            0  \n",
              "1                60.0            0  \n",
              "2                50.0            0  \n",
              "3                50.0            0  \n",
              "4                73.0            0  "
            ],
            "text/html": [
              "\n",
              "\n",
              "  <div id=\"df-38bb463b-38c7-44da-a738-7ff7d15b79a4\">\n",
              "    <div class=\"colab-df-container\">\n",
              "      <div>\n",
              "<style scoped>\n",
              "    .dataframe tbody tr th:only-of-type {\n",
              "        vertical-align: middle;\n",
              "    }\n",
              "\n",
              "    .dataframe tbody tr th {\n",
              "        vertical-align: top;\n",
              "    }\n",
              "\n",
              "    .dataframe thead th {\n",
              "        text-align: right;\n",
              "    }\n",
              "</style>\n",
              "<table border=\"1\" class=\"dataframe\">\n",
              "  <thead>\n",
              "    <tr style=\"text-align: right;\">\n",
              "      <th></th>\n",
              "      <th>employee_id</th>\n",
              "      <th>department</th>\n",
              "      <th>region</th>\n",
              "      <th>education</th>\n",
              "      <th>gender</th>\n",
              "      <th>recruitment_channel</th>\n",
              "      <th>no_of_trainings</th>\n",
              "      <th>age</th>\n",
              "      <th>previous_year_rating</th>\n",
              "      <th>length_of_service</th>\n",
              "      <th>awards_won</th>\n",
              "      <th>avg_training_score</th>\n",
              "      <th>is_promoted</th>\n",
              "    </tr>\n",
              "  </thead>\n",
              "  <tbody>\n",
              "    <tr>\n",
              "      <th>0</th>\n",
              "      <td>65438</td>\n",
              "      <td>7</td>\n",
              "      <td>31</td>\n",
              "      <td>2</td>\n",
              "      <td>0</td>\n",
              "      <td>2</td>\n",
              "      <td>1</td>\n",
              "      <td>35</td>\n",
              "      <td>5.0</td>\n",
              "      <td>8</td>\n",
              "      <td>0</td>\n",
              "      <td>49.0</td>\n",
              "      <td>0</td>\n",
              "    </tr>\n",
              "    <tr>\n",
              "      <th>1</th>\n",
              "      <td>65141</td>\n",
              "      <td>4</td>\n",
              "      <td>14</td>\n",
              "      <td>0</td>\n",
              "      <td>1</td>\n",
              "      <td>0</td>\n",
              "      <td>1</td>\n",
              "      <td>30</td>\n",
              "      <td>5.0</td>\n",
              "      <td>4</td>\n",
              "      <td>0</td>\n",
              "      <td>60.0</td>\n",
              "      <td>0</td>\n",
              "    </tr>\n",
              "    <tr>\n",
              "      <th>2</th>\n",
              "      <td>7513</td>\n",
              "      <td>7</td>\n",
              "      <td>10</td>\n",
              "      <td>0</td>\n",
              "      <td>1</td>\n",
              "      <td>2</td>\n",
              "      <td>1</td>\n",
              "      <td>34</td>\n",
              "      <td>3.0</td>\n",
              "      <td>7</td>\n",
              "      <td>0</td>\n",
              "      <td>50.0</td>\n",
              "      <td>0</td>\n",
              "    </tr>\n",
              "    <tr>\n",
              "      <th>3</th>\n",
              "      <td>2542</td>\n",
              "      <td>7</td>\n",
              "      <td>15</td>\n",
              "      <td>0</td>\n",
              "      <td>1</td>\n",
              "      <td>0</td>\n",
              "      <td>2</td>\n",
              "      <td>39</td>\n",
              "      <td>1.0</td>\n",
              "      <td>10</td>\n",
              "      <td>0</td>\n",
              "      <td>50.0</td>\n",
              "      <td>0</td>\n",
              "    </tr>\n",
              "    <tr>\n",
              "      <th>4</th>\n",
              "      <td>48945</td>\n",
              "      <td>8</td>\n",
              "      <td>18</td>\n",
              "      <td>0</td>\n",
              "      <td>1</td>\n",
              "      <td>0</td>\n",
              "      <td>1</td>\n",
              "      <td>45</td>\n",
              "      <td>3.0</td>\n",
              "      <td>2</td>\n",
              "      <td>0</td>\n",
              "      <td>73.0</td>\n",
              "      <td>0</td>\n",
              "    </tr>\n",
              "  </tbody>\n",
              "</table>\n",
              "</div>\n",
              "      <button class=\"colab-df-convert\" onclick=\"convertToInteractive('df-38bb463b-38c7-44da-a738-7ff7d15b79a4')\"\n",
              "              title=\"Convert this dataframe to an interactive table.\"\n",
              "              style=\"display:none;\">\n",
              "\n",
              "  <svg xmlns=\"http://www.w3.org/2000/svg\" height=\"24px\"viewBox=\"0 0 24 24\"\n",
              "       width=\"24px\">\n",
              "    <path d=\"M0 0h24v24H0V0z\" fill=\"none\"/>\n",
              "    <path d=\"M18.56 5.44l.94 2.06.94-2.06 2.06-.94-2.06-.94-.94-2.06-.94 2.06-2.06.94zm-11 1L8.5 8.5l.94-2.06 2.06-.94-2.06-.94L8.5 2.5l-.94 2.06-2.06.94zm10 10l.94 2.06.94-2.06 2.06-.94-2.06-.94-.94-2.06-.94 2.06-2.06.94z\"/><path d=\"M17.41 7.96l-1.37-1.37c-.4-.4-.92-.59-1.43-.59-.52 0-1.04.2-1.43.59L10.3 9.45l-7.72 7.72c-.78.78-.78 2.05 0 2.83L4 21.41c.39.39.9.59 1.41.59.51 0 1.02-.2 1.41-.59l7.78-7.78 2.81-2.81c.8-.78.8-2.07 0-2.86zM5.41 20L4 18.59l7.72-7.72 1.47 1.35L5.41 20z\"/>\n",
              "  </svg>\n",
              "      </button>\n",
              "\n",
              "\n",
              "\n",
              "    <div id=\"df-e1817894-68b9-4210-9cfe-ddcc3bba2cbf\">\n",
              "      <button class=\"colab-df-quickchart\" onclick=\"quickchart('df-e1817894-68b9-4210-9cfe-ddcc3bba2cbf')\"\n",
              "              title=\"Suggest charts.\"\n",
              "              style=\"display:none;\">\n",
              "\n",
              "<svg xmlns=\"http://www.w3.org/2000/svg\" height=\"24px\"viewBox=\"0 0 24 24\"\n",
              "     width=\"24px\">\n",
              "    <g>\n",
              "        <path d=\"M19 3H5c-1.1 0-2 .9-2 2v14c0 1.1.9 2 2 2h14c1.1 0 2-.9 2-2V5c0-1.1-.9-2-2-2zM9 17H7v-7h2v7zm4 0h-2V7h2v10zm4 0h-2v-4h2v4z\"/>\n",
              "    </g>\n",
              "</svg>\n",
              "      </button>\n",
              "    </div>\n",
              "\n",
              "<style>\n",
              "  .colab-df-quickchart {\n",
              "    background-color: #E8F0FE;\n",
              "    border: none;\n",
              "    border-radius: 50%;\n",
              "    cursor: pointer;\n",
              "    display: none;\n",
              "    fill: #1967D2;\n",
              "    height: 32px;\n",
              "    padding: 0 0 0 0;\n",
              "    width: 32px;\n",
              "  }\n",
              "\n",
              "  .colab-df-quickchart:hover {\n",
              "    background-color: #E2EBFA;\n",
              "    box-shadow: 0px 1px 2px rgba(60, 64, 67, 0.3), 0px 1px 3px 1px rgba(60, 64, 67, 0.15);\n",
              "    fill: #174EA6;\n",
              "  }\n",
              "\n",
              "  [theme=dark] .colab-df-quickchart {\n",
              "    background-color: #3B4455;\n",
              "    fill: #D2E3FC;\n",
              "  }\n",
              "\n",
              "  [theme=dark] .colab-df-quickchart:hover {\n",
              "    background-color: #434B5C;\n",
              "    box-shadow: 0px 1px 3px 1px rgba(0, 0, 0, 0.15);\n",
              "    filter: drop-shadow(0px 1px 2px rgba(0, 0, 0, 0.3));\n",
              "    fill: #FFFFFF;\n",
              "  }\n",
              "</style>\n",
              "\n",
              "    <script>\n",
              "      async function quickchart(key) {\n",
              "        const containerElement = document.querySelector('#' + key);\n",
              "        const charts = await google.colab.kernel.invokeFunction(\n",
              "            'suggestCharts', [key], {});\n",
              "      }\n",
              "    </script>\n",
              "\n",
              "      <script>\n",
              "\n",
              "function displayQuickchartButton(domScope) {\n",
              "  let quickchartButtonEl =\n",
              "    domScope.querySelector('#df-e1817894-68b9-4210-9cfe-ddcc3bba2cbf button.colab-df-quickchart');\n",
              "  quickchartButtonEl.style.display =\n",
              "    google.colab.kernel.accessAllowed ? 'block' : 'none';\n",
              "}\n",
              "\n",
              "        displayQuickchartButton(document);\n",
              "      </script>\n",
              "      <style>\n",
              "    .colab-df-container {\n",
              "      display:flex;\n",
              "      flex-wrap:wrap;\n",
              "      gap: 12px;\n",
              "    }\n",
              "\n",
              "    .colab-df-convert {\n",
              "      background-color: #E8F0FE;\n",
              "      border: none;\n",
              "      border-radius: 50%;\n",
              "      cursor: pointer;\n",
              "      display: none;\n",
              "      fill: #1967D2;\n",
              "      height: 32px;\n",
              "      padding: 0 0 0 0;\n",
              "      width: 32px;\n",
              "    }\n",
              "\n",
              "    .colab-df-convert:hover {\n",
              "      background-color: #E2EBFA;\n",
              "      box-shadow: 0px 1px 2px rgba(60, 64, 67, 0.3), 0px 1px 3px 1px rgba(60, 64, 67, 0.15);\n",
              "      fill: #174EA6;\n",
              "    }\n",
              "\n",
              "    [theme=dark] .colab-df-convert {\n",
              "      background-color: #3B4455;\n",
              "      fill: #D2E3FC;\n",
              "    }\n",
              "\n",
              "    [theme=dark] .colab-df-convert:hover {\n",
              "      background-color: #434B5C;\n",
              "      box-shadow: 0px 1px 3px 1px rgba(0, 0, 0, 0.15);\n",
              "      filter: drop-shadow(0px 1px 2px rgba(0, 0, 0, 0.3));\n",
              "      fill: #FFFFFF;\n",
              "    }\n",
              "  </style>\n",
              "\n",
              "      <script>\n",
              "        const buttonEl =\n",
              "          document.querySelector('#df-38bb463b-38c7-44da-a738-7ff7d15b79a4 button.colab-df-convert');\n",
              "        buttonEl.style.display =\n",
              "          google.colab.kernel.accessAllowed ? 'block' : 'none';\n",
              "\n",
              "        async function convertToInteractive(key) {\n",
              "          const element = document.querySelector('#df-38bb463b-38c7-44da-a738-7ff7d15b79a4');\n",
              "          const dataTable =\n",
              "            await google.colab.kernel.invokeFunction('convertToInteractive',\n",
              "                                                     [key], {});\n",
              "          if (!dataTable) return;\n",
              "\n",
              "          const docLinkHtml = 'Like what you see? Visit the ' +\n",
              "            '<a target=\"_blank\" href=https://colab.research.google.com/notebooks/data_table.ipynb>data table notebook</a>'\n",
              "            + ' to learn more about interactive tables.';\n",
              "          element.innerHTML = '';\n",
              "          dataTable['output_type'] = 'display_data';\n",
              "          await google.colab.output.renderOutput(dataTable, element);\n",
              "          const docLink = document.createElement('div');\n",
              "          docLink.innerHTML = docLinkHtml;\n",
              "          element.appendChild(docLink);\n",
              "        }\n",
              "      </script>\n",
              "    </div>\n",
              "  </div>\n"
            ]
          },
          "metadata": {},
          "execution_count": 9
        }
      ]
    },
    {
      "cell_type": "code",
      "source": [
        "X = new_human_cap.drop('is_promoted', axis=1)\n",
        "y = new_human_cap['is_promoted']\n",
        "\n",
        "#implement train test split\n",
        "X_train, X_test, y_train, y_test = train_test_split(X, y, test_size=0.2, random_state=43)"
      ],
      "metadata": {
        "id": "FzuWQikPbFss"
      },
      "execution_count": null,
      "outputs": []
    },
    {
      "cell_type": "code",
      "source": [
        "def modelling(X_train, y_train, X_test, y_test):\n",
        "\n",
        "  # modelling with logistic regression\n",
        "  clf = GradientBoostingClassifier()\n",
        "  clf.fit(X_train, y_train)\n",
        "\n",
        "  # Evaluation\n",
        "  y_predict_train = clf.predict(X_train)\n",
        "  y_predict_test = clf.predict(X_test)\n",
        "\n",
        "  training_acc = accuracy_score(y_train, y_predict_train)\n",
        "  testing_acc = accuracy_score(y_test, y_predict_test)\n",
        "\n",
        "  print(\"Training Accuracy: {}\".format(training_acc))\n",
        "  print(\"Testing Accuracy: {}\".format(testing_acc))"
      ],
      "metadata": {
        "id": "sKu8eb8SbINn"
      },
      "execution_count": null,
      "outputs": []
    },
    {
      "cell_type": "code",
      "source": [
        "modelling(X_train, y_train, X_test, y_test)"
      ],
      "metadata": {
        "colab": {
          "base_uri": "https://localhost:8080/"
        },
        "id": "u9gqMq3MbOXi",
        "outputId": "87d76115-71d4-4ae6-87f5-ddf6b2a4ec5f"
      },
      "execution_count": null,
      "outputs": [
        {
          "output_type": "stream",
          "name": "stdout",
          "text": [
            "Training Accuracy: 0.9356673134971971\n",
            "Testing Accuracy: 0.9379042690815006\n"
          ]
        }
      ]
    },
    {
      "cell_type": "markdown",
      "source": [
        "## **Undersampling**"
      ],
      "metadata": {
        "id": "igT-PnLqbRXA"
      }
    },
    {
      "cell_type": "code",
      "source": [
        "#set the undersampling\n",
        "undersample = RandomUnderSampler(sampling_strategy=0.5) #set your strategy\n",
        "\n",
        "#fit the data\n",
        "X_under, y_under = undersample.fit_resample(X_train, y_train)\n",
        "\n",
        "print(Counter(y_train))\n",
        "print(Counter(y_under))"
      ],
      "metadata": {
        "colab": {
          "base_uri": "https://localhost:8080/"
        },
        "id": "DV-T3UPYbThK",
        "outputId": "2d1ba0cf-7174-49b0-ce6c-e65141b92962"
      },
      "execution_count": null,
      "outputs": [
        {
          "output_type": "stream",
          "name": "stdout",
          "text": [
            "Counter({0: 33805, 1: 3299})\n",
            "Counter({0: 6598, 1: 3299})\n"
          ]
        }
      ]
    },
    {
      "cell_type": "code",
      "source": [
        "modelling(X_under, y_under, X_test, y_test)"
      ],
      "metadata": {
        "colab": {
          "base_uri": "https://localhost:8080/"
        },
        "id": "BZMvOmUrbYh7",
        "outputId": "3faa0afb-0e38-44f0-887c-38a83c356814"
      },
      "execution_count": null,
      "outputs": [
        {
          "output_type": "stream",
          "name": "stdout",
          "text": [
            "Training Accuracy: 0.7971102354248762\n",
            "Testing Accuracy: 0.9007115135834411\n"
          ]
        }
      ]
    },
    {
      "cell_type": "markdown",
      "source": [
        "## **Oversampling**"
      ],
      "metadata": {
        "id": "FADh1iq4bawX"
      }
    },
    {
      "cell_type": "code",
      "source": [
        "#set the oversampling\n",
        "oversample = RandomOverSampler(sampling_strategy=0.5) #set your strategy\n",
        "\n",
        "#fit the data\n",
        "X_over, y_over = oversample.fit_resample(X_train, y_train)\n",
        "\n",
        "print(Counter(y_train))\n",
        "print(Counter(y_over))"
      ],
      "metadata": {
        "colab": {
          "base_uri": "https://localhost:8080/"
        },
        "id": "0QfDtLX4bchV",
        "outputId": "c7fc4a96-98d7-41c0-e68a-2bbf7a2cda25"
      },
      "execution_count": null,
      "outputs": [
        {
          "output_type": "stream",
          "name": "stdout",
          "text": [
            "Counter({0: 33805, 1: 3299})\n",
            "Counter({0: 33805, 1: 16902})\n"
          ]
        }
      ]
    },
    {
      "cell_type": "code",
      "source": [
        "modelling(X_over, y_over, X_test, y_test)"
      ],
      "metadata": {
        "colab": {
          "base_uri": "https://localhost:8080/"
        },
        "id": "O-O0BDKrbg8m",
        "outputId": "c329b7ee-5a09-4616-f518-c2007b895b5f"
      },
      "execution_count": null,
      "outputs": [
        {
          "output_type": "stream",
          "name": "stdout",
          "text": [
            "Training Accuracy: 0.7968525055712229\n",
            "Testing Accuracy: 0.9013583441138422\n"
          ]
        }
      ]
    },
    {
      "cell_type": "markdown",
      "source": [
        "## **SMOTE**"
      ],
      "metadata": {
        "id": "w9_l9YstbjJK"
      }
    },
    {
      "cell_type": "code",
      "source": [
        "# Handling imbalance data\n",
        "from imblearn.over_sampling import SMOTE\n",
        "\n",
        "sm = SMOTE(random_state=43, sampling_strategy=0.5)\n",
        "\n",
        "# Fit the over sampling\n",
        "X_train_smote, y_train_smote = sm.fit_resample(X_train, y_train)\n",
        "\n",
        "print(\"Before over sampling: {}\".format(Counter(y_train)))\n",
        "print(\"After over sampling: {}\".format(Counter(y_train_smote)))"
      ],
      "metadata": {
        "colab": {
          "base_uri": "https://localhost:8080/"
        },
        "id": "hUtlhHtKbiSO",
        "outputId": "483bb5e5-a8da-470b-85bc-6171b626bf76"
      },
      "execution_count": null,
      "outputs": [
        {
          "output_type": "stream",
          "name": "stdout",
          "text": [
            "Before over sampling: Counter({0: 33805, 1: 3299})\n",
            "After over sampling: Counter({0: 33805, 1: 16902})\n"
          ]
        }
      ]
    },
    {
      "cell_type": "code",
      "source": [
        "modelling(X_train_smote, y_train_smote, X_test, y_test)"
      ],
      "metadata": {
        "colab": {
          "base_uri": "https://localhost:8080/"
        },
        "id": "6KWvHWGSbmyq",
        "outputId": "fc700ca1-9d87-4b08-e377-664dc7c630fb"
      },
      "execution_count": null,
      "outputs": [
        {
          "output_type": "stream",
          "name": "stdout",
          "text": [
            "Training Accuracy: 0.9120634231960084\n",
            "Testing Accuracy: 0.9223803363518758\n"
          ]
        }
      ]
    },
    {
      "cell_type": "markdown",
      "source": [
        "\n",
        "\n",
        "---\n",
        "\n"
      ],
      "metadata": {
        "id": "YjE8mpq6z8yh"
      }
    },
    {
      "cell_type": "markdown",
      "source": [
        "# **Text Pre-Processing**"
      ],
      "metadata": {
        "id": "jzebZnQcH-sI"
      }
    },
    {
      "cell_type": "code",
      "source": [
        "# news dataset\n",
        "news_data = pd.read_csv(\"https://raw.githubusercontent.com/frfusch21/Data-Science-Modul/master/Datasets/News%20Title.csv\",sep=\";\",header=0,index_col=0)\n",
        "news_data.head()"
      ],
      "metadata": {
        "colab": {
          "base_uri": "https://localhost:8080/",
          "height": 238
        },
        "id": "9wo-nVGeIFvf",
        "outputId": "7bc223a4-59b3-4dd6-977b-263cc2bb12fa"
      },
      "execution_count": null,
      "outputs": [
        {
          "output_type": "execute_result",
          "data": {
            "text/plain": [
              "                                           News Title       Category\n",
              "No                                                                  \n",
              "1   Google+ rolls out 'Stories' for tricked out ph...     Technology\n",
              "2                     Dov Charney's Redeeming Quality       Business\n",
              "3    White God adds Un Certain Regard to the Palm Dog  Entertainment\n",
              "4   Google shows off Androids for wearables, cars,...     Technology\n",
              "5          China May new bank loans at 870.8 bln yuan       Business"
            ],
            "text/html": [
              "\n",
              "\n",
              "  <div id=\"df-ea4370fa-7205-4738-8285-31d2e83e19ed\">\n",
              "    <div class=\"colab-df-container\">\n",
              "      <div>\n",
              "<style scoped>\n",
              "    .dataframe tbody tr th:only-of-type {\n",
              "        vertical-align: middle;\n",
              "    }\n",
              "\n",
              "    .dataframe tbody tr th {\n",
              "        vertical-align: top;\n",
              "    }\n",
              "\n",
              "    .dataframe thead th {\n",
              "        text-align: right;\n",
              "    }\n",
              "</style>\n",
              "<table border=\"1\" class=\"dataframe\">\n",
              "  <thead>\n",
              "    <tr style=\"text-align: right;\">\n",
              "      <th></th>\n",
              "      <th>News Title</th>\n",
              "      <th>Category</th>\n",
              "    </tr>\n",
              "    <tr>\n",
              "      <th>No</th>\n",
              "      <th></th>\n",
              "      <th></th>\n",
              "    </tr>\n",
              "  </thead>\n",
              "  <tbody>\n",
              "    <tr>\n",
              "      <th>1</th>\n",
              "      <td>Google+ rolls out 'Stories' for tricked out ph...</td>\n",
              "      <td>Technology</td>\n",
              "    </tr>\n",
              "    <tr>\n",
              "      <th>2</th>\n",
              "      <td>Dov Charney's Redeeming Quality</td>\n",
              "      <td>Business</td>\n",
              "    </tr>\n",
              "    <tr>\n",
              "      <th>3</th>\n",
              "      <td>White God adds Un Certain Regard to the Palm Dog</td>\n",
              "      <td>Entertainment</td>\n",
              "    </tr>\n",
              "    <tr>\n",
              "      <th>4</th>\n",
              "      <td>Google shows off Androids for wearables, cars,...</td>\n",
              "      <td>Technology</td>\n",
              "    </tr>\n",
              "    <tr>\n",
              "      <th>5</th>\n",
              "      <td>China May new bank loans at 870.8 bln yuan</td>\n",
              "      <td>Business</td>\n",
              "    </tr>\n",
              "  </tbody>\n",
              "</table>\n",
              "</div>\n",
              "      <button class=\"colab-df-convert\" onclick=\"convertToInteractive('df-ea4370fa-7205-4738-8285-31d2e83e19ed')\"\n",
              "              title=\"Convert this dataframe to an interactive table.\"\n",
              "              style=\"display:none;\">\n",
              "\n",
              "  <svg xmlns=\"http://www.w3.org/2000/svg\" height=\"24px\"viewBox=\"0 0 24 24\"\n",
              "       width=\"24px\">\n",
              "    <path d=\"M0 0h24v24H0V0z\" fill=\"none\"/>\n",
              "    <path d=\"M18.56 5.44l.94 2.06.94-2.06 2.06-.94-2.06-.94-.94-2.06-.94 2.06-2.06.94zm-11 1L8.5 8.5l.94-2.06 2.06-.94-2.06-.94L8.5 2.5l-.94 2.06-2.06.94zm10 10l.94 2.06.94-2.06 2.06-.94-2.06-.94-.94-2.06-.94 2.06-2.06.94z\"/><path d=\"M17.41 7.96l-1.37-1.37c-.4-.4-.92-.59-1.43-.59-.52 0-1.04.2-1.43.59L10.3 9.45l-7.72 7.72c-.78.78-.78 2.05 0 2.83L4 21.41c.39.39.9.59 1.41.59.51 0 1.02-.2 1.41-.59l7.78-7.78 2.81-2.81c.8-.78.8-2.07 0-2.86zM5.41 20L4 18.59l7.72-7.72 1.47 1.35L5.41 20z\"/>\n",
              "  </svg>\n",
              "      </button>\n",
              "\n",
              "\n",
              "\n",
              "    <div id=\"df-1cea8c95-649f-4493-a69c-6facd8a46f3a\">\n",
              "      <button class=\"colab-df-quickchart\" onclick=\"quickchart('df-1cea8c95-649f-4493-a69c-6facd8a46f3a')\"\n",
              "              title=\"Suggest charts.\"\n",
              "              style=\"display:none;\">\n",
              "\n",
              "<svg xmlns=\"http://www.w3.org/2000/svg\" height=\"24px\"viewBox=\"0 0 24 24\"\n",
              "     width=\"24px\">\n",
              "    <g>\n",
              "        <path d=\"M19 3H5c-1.1 0-2 .9-2 2v14c0 1.1.9 2 2 2h14c1.1 0 2-.9 2-2V5c0-1.1-.9-2-2-2zM9 17H7v-7h2v7zm4 0h-2V7h2v10zm4 0h-2v-4h2v4z\"/>\n",
              "    </g>\n",
              "</svg>\n",
              "      </button>\n",
              "    </div>\n",
              "\n",
              "<style>\n",
              "  .colab-df-quickchart {\n",
              "    background-color: #E8F0FE;\n",
              "    border: none;\n",
              "    border-radius: 50%;\n",
              "    cursor: pointer;\n",
              "    display: none;\n",
              "    fill: #1967D2;\n",
              "    height: 32px;\n",
              "    padding: 0 0 0 0;\n",
              "    width: 32px;\n",
              "  }\n",
              "\n",
              "  .colab-df-quickchart:hover {\n",
              "    background-color: #E2EBFA;\n",
              "    box-shadow: 0px 1px 2px rgba(60, 64, 67, 0.3), 0px 1px 3px 1px rgba(60, 64, 67, 0.15);\n",
              "    fill: #174EA6;\n",
              "  }\n",
              "\n",
              "  [theme=dark] .colab-df-quickchart {\n",
              "    background-color: #3B4455;\n",
              "    fill: #D2E3FC;\n",
              "  }\n",
              "\n",
              "  [theme=dark] .colab-df-quickchart:hover {\n",
              "    background-color: #434B5C;\n",
              "    box-shadow: 0px 1px 3px 1px rgba(0, 0, 0, 0.15);\n",
              "    filter: drop-shadow(0px 1px 2px rgba(0, 0, 0, 0.3));\n",
              "    fill: #FFFFFF;\n",
              "  }\n",
              "</style>\n",
              "\n",
              "    <script>\n",
              "      async function quickchart(key) {\n",
              "        const containerElement = document.querySelector('#' + key);\n",
              "        const charts = await google.colab.kernel.invokeFunction(\n",
              "            'suggestCharts', [key], {});\n",
              "      }\n",
              "    </script>\n",
              "\n",
              "      <script>\n",
              "\n",
              "function displayQuickchartButton(domScope) {\n",
              "  let quickchartButtonEl =\n",
              "    domScope.querySelector('#df-1cea8c95-649f-4493-a69c-6facd8a46f3a button.colab-df-quickchart');\n",
              "  quickchartButtonEl.style.display =\n",
              "    google.colab.kernel.accessAllowed ? 'block' : 'none';\n",
              "}\n",
              "\n",
              "        displayQuickchartButton(document);\n",
              "      </script>\n",
              "      <style>\n",
              "    .colab-df-container {\n",
              "      display:flex;\n",
              "      flex-wrap:wrap;\n",
              "      gap: 12px;\n",
              "    }\n",
              "\n",
              "    .colab-df-convert {\n",
              "      background-color: #E8F0FE;\n",
              "      border: none;\n",
              "      border-radius: 50%;\n",
              "      cursor: pointer;\n",
              "      display: none;\n",
              "      fill: #1967D2;\n",
              "      height: 32px;\n",
              "      padding: 0 0 0 0;\n",
              "      width: 32px;\n",
              "    }\n",
              "\n",
              "    .colab-df-convert:hover {\n",
              "      background-color: #E2EBFA;\n",
              "      box-shadow: 0px 1px 2px rgba(60, 64, 67, 0.3), 0px 1px 3px 1px rgba(60, 64, 67, 0.15);\n",
              "      fill: #174EA6;\n",
              "    }\n",
              "\n",
              "    [theme=dark] .colab-df-convert {\n",
              "      background-color: #3B4455;\n",
              "      fill: #D2E3FC;\n",
              "    }\n",
              "\n",
              "    [theme=dark] .colab-df-convert:hover {\n",
              "      background-color: #434B5C;\n",
              "      box-shadow: 0px 1px 3px 1px rgba(0, 0, 0, 0.15);\n",
              "      filter: drop-shadow(0px 1px 2px rgba(0, 0, 0, 0.3));\n",
              "      fill: #FFFFFF;\n",
              "    }\n",
              "  </style>\n",
              "\n",
              "      <script>\n",
              "        const buttonEl =\n",
              "          document.querySelector('#df-ea4370fa-7205-4738-8285-31d2e83e19ed button.colab-df-convert');\n",
              "        buttonEl.style.display =\n",
              "          google.colab.kernel.accessAllowed ? 'block' : 'none';\n",
              "\n",
              "        async function convertToInteractive(key) {\n",
              "          const element = document.querySelector('#df-ea4370fa-7205-4738-8285-31d2e83e19ed');\n",
              "          const dataTable =\n",
              "            await google.colab.kernel.invokeFunction('convertToInteractive',\n",
              "                                                     [key], {});\n",
              "          if (!dataTable) return;\n",
              "\n",
              "          const docLinkHtml = 'Like what you see? Visit the ' +\n",
              "            '<a target=\"_blank\" href=https://colab.research.google.com/notebooks/data_table.ipynb>data table notebook</a>'\n",
              "            + ' to learn more about interactive tables.';\n",
              "          element.innerHTML = '';\n",
              "          dataTable['output_type'] = 'display_data';\n",
              "          await google.colab.output.renderOutput(dataTable, element);\n",
              "          const docLink = document.createElement('div');\n",
              "          docLink.innerHTML = docLinkHtml;\n",
              "          element.appendChild(docLink);\n",
              "        }\n",
              "      </script>\n",
              "    </div>\n",
              "  </div>\n"
            ]
          },
          "metadata": {},
          "execution_count": 2
        }
      ]
    },
    {
      "cell_type": "code",
      "source": [
        "print(\"News data contain {} rows and {} columns \\n\".format(news_data.shape[0], news_data.shape[1]))\n",
        "print(news_data.info(), '\\n')\n",
        "news_data.describe()"
      ],
      "metadata": {
        "colab": {
          "base_uri": "https://localhost:8080/",
          "height": 400
        },
        "id": "wO0j_-U6sZcJ",
        "outputId": "a6873b00-91f2-4075-a655-8b3643d257fa"
      },
      "execution_count": null,
      "outputs": [
        {
          "output_type": "stream",
          "name": "stdout",
          "text": [
            "News data contain 65535 rows and 2 columns \n",
            "\n",
            "<class 'pandas.core.frame.DataFrame'>\n",
            "Int64Index: 65535 entries, 1 to 65535\n",
            "Data columns (total 2 columns):\n",
            " #   Column      Non-Null Count  Dtype \n",
            "---  ------      --------------  ----- \n",
            " 0   News Title  65535 non-null  object\n",
            " 1   Category    65535 non-null  object\n",
            "dtypes: object(2)\n",
            "memory usage: 1.5+ MB\n",
            "None \n",
            "\n"
          ]
        },
        {
          "output_type": "execute_result",
          "data": {
            "text/plain": [
              "                                               News Title       Category\n",
              "count                                               65535          65535\n",
              "unique                                              64981              4\n",
              "top     The article requested cannot be found! Please ...  Entertainment\n",
              "freq                                                   21          23961"
            ],
            "text/html": [
              "\n",
              "\n",
              "  <div id=\"df-0e63c84f-3eee-40fa-be86-38956e180078\">\n",
              "    <div class=\"colab-df-container\">\n",
              "      <div>\n",
              "<style scoped>\n",
              "    .dataframe tbody tr th:only-of-type {\n",
              "        vertical-align: middle;\n",
              "    }\n",
              "\n",
              "    .dataframe tbody tr th {\n",
              "        vertical-align: top;\n",
              "    }\n",
              "\n",
              "    .dataframe thead th {\n",
              "        text-align: right;\n",
              "    }\n",
              "</style>\n",
              "<table border=\"1\" class=\"dataframe\">\n",
              "  <thead>\n",
              "    <tr style=\"text-align: right;\">\n",
              "      <th></th>\n",
              "      <th>News Title</th>\n",
              "      <th>Category</th>\n",
              "    </tr>\n",
              "  </thead>\n",
              "  <tbody>\n",
              "    <tr>\n",
              "      <th>count</th>\n",
              "      <td>65535</td>\n",
              "      <td>65535</td>\n",
              "    </tr>\n",
              "    <tr>\n",
              "      <th>unique</th>\n",
              "      <td>64981</td>\n",
              "      <td>4</td>\n",
              "    </tr>\n",
              "    <tr>\n",
              "      <th>top</th>\n",
              "      <td>The article requested cannot be found! Please ...</td>\n",
              "      <td>Entertainment</td>\n",
              "    </tr>\n",
              "    <tr>\n",
              "      <th>freq</th>\n",
              "      <td>21</td>\n",
              "      <td>23961</td>\n",
              "    </tr>\n",
              "  </tbody>\n",
              "</table>\n",
              "</div>\n",
              "      <button class=\"colab-df-convert\" onclick=\"convertToInteractive('df-0e63c84f-3eee-40fa-be86-38956e180078')\"\n",
              "              title=\"Convert this dataframe to an interactive table.\"\n",
              "              style=\"display:none;\">\n",
              "\n",
              "  <svg xmlns=\"http://www.w3.org/2000/svg\" height=\"24px\"viewBox=\"0 0 24 24\"\n",
              "       width=\"24px\">\n",
              "    <path d=\"M0 0h24v24H0V0z\" fill=\"none\"/>\n",
              "    <path d=\"M18.56 5.44l.94 2.06.94-2.06 2.06-.94-2.06-.94-.94-2.06-.94 2.06-2.06.94zm-11 1L8.5 8.5l.94-2.06 2.06-.94-2.06-.94L8.5 2.5l-.94 2.06-2.06.94zm10 10l.94 2.06.94-2.06 2.06-.94-2.06-.94-.94-2.06-.94 2.06-2.06.94z\"/><path d=\"M17.41 7.96l-1.37-1.37c-.4-.4-.92-.59-1.43-.59-.52 0-1.04.2-1.43.59L10.3 9.45l-7.72 7.72c-.78.78-.78 2.05 0 2.83L4 21.41c.39.39.9.59 1.41.59.51 0 1.02-.2 1.41-.59l7.78-7.78 2.81-2.81c.8-.78.8-2.07 0-2.86zM5.41 20L4 18.59l7.72-7.72 1.47 1.35L5.41 20z\"/>\n",
              "  </svg>\n",
              "      </button>\n",
              "\n",
              "\n",
              "\n",
              "    <div id=\"df-1ce601f7-4a58-4bd0-9012-0c0912b365a6\">\n",
              "      <button class=\"colab-df-quickchart\" onclick=\"quickchart('df-1ce601f7-4a58-4bd0-9012-0c0912b365a6')\"\n",
              "              title=\"Suggest charts.\"\n",
              "              style=\"display:none;\">\n",
              "\n",
              "<svg xmlns=\"http://www.w3.org/2000/svg\" height=\"24px\"viewBox=\"0 0 24 24\"\n",
              "     width=\"24px\">\n",
              "    <g>\n",
              "        <path d=\"M19 3H5c-1.1 0-2 .9-2 2v14c0 1.1.9 2 2 2h14c1.1 0 2-.9 2-2V5c0-1.1-.9-2-2-2zM9 17H7v-7h2v7zm4 0h-2V7h2v10zm4 0h-2v-4h2v4z\"/>\n",
              "    </g>\n",
              "</svg>\n",
              "      </button>\n",
              "    </div>\n",
              "\n",
              "<style>\n",
              "  .colab-df-quickchart {\n",
              "    background-color: #E8F0FE;\n",
              "    border: none;\n",
              "    border-radius: 50%;\n",
              "    cursor: pointer;\n",
              "    display: none;\n",
              "    fill: #1967D2;\n",
              "    height: 32px;\n",
              "    padding: 0 0 0 0;\n",
              "    width: 32px;\n",
              "  }\n",
              "\n",
              "  .colab-df-quickchart:hover {\n",
              "    background-color: #E2EBFA;\n",
              "    box-shadow: 0px 1px 2px rgba(60, 64, 67, 0.3), 0px 1px 3px 1px rgba(60, 64, 67, 0.15);\n",
              "    fill: #174EA6;\n",
              "  }\n",
              "\n",
              "  [theme=dark] .colab-df-quickchart {\n",
              "    background-color: #3B4455;\n",
              "    fill: #D2E3FC;\n",
              "  }\n",
              "\n",
              "  [theme=dark] .colab-df-quickchart:hover {\n",
              "    background-color: #434B5C;\n",
              "    box-shadow: 0px 1px 3px 1px rgba(0, 0, 0, 0.15);\n",
              "    filter: drop-shadow(0px 1px 2px rgba(0, 0, 0, 0.3));\n",
              "    fill: #FFFFFF;\n",
              "  }\n",
              "</style>\n",
              "\n",
              "    <script>\n",
              "      async function quickchart(key) {\n",
              "        const containerElement = document.querySelector('#' + key);\n",
              "        const charts = await google.colab.kernel.invokeFunction(\n",
              "            'suggestCharts', [key], {});\n",
              "      }\n",
              "    </script>\n",
              "\n",
              "      <script>\n",
              "\n",
              "function displayQuickchartButton(domScope) {\n",
              "  let quickchartButtonEl =\n",
              "    domScope.querySelector('#df-1ce601f7-4a58-4bd0-9012-0c0912b365a6 button.colab-df-quickchart');\n",
              "  quickchartButtonEl.style.display =\n",
              "    google.colab.kernel.accessAllowed ? 'block' : 'none';\n",
              "}\n",
              "\n",
              "        displayQuickchartButton(document);\n",
              "      </script>\n",
              "      <style>\n",
              "    .colab-df-container {\n",
              "      display:flex;\n",
              "      flex-wrap:wrap;\n",
              "      gap: 12px;\n",
              "    }\n",
              "\n",
              "    .colab-df-convert {\n",
              "      background-color: #E8F0FE;\n",
              "      border: none;\n",
              "      border-radius: 50%;\n",
              "      cursor: pointer;\n",
              "      display: none;\n",
              "      fill: #1967D2;\n",
              "      height: 32px;\n",
              "      padding: 0 0 0 0;\n",
              "      width: 32px;\n",
              "    }\n",
              "\n",
              "    .colab-df-convert:hover {\n",
              "      background-color: #E2EBFA;\n",
              "      box-shadow: 0px 1px 2px rgba(60, 64, 67, 0.3), 0px 1px 3px 1px rgba(60, 64, 67, 0.15);\n",
              "      fill: #174EA6;\n",
              "    }\n",
              "\n",
              "    [theme=dark] .colab-df-convert {\n",
              "      background-color: #3B4455;\n",
              "      fill: #D2E3FC;\n",
              "    }\n",
              "\n",
              "    [theme=dark] .colab-df-convert:hover {\n",
              "      background-color: #434B5C;\n",
              "      box-shadow: 0px 1px 3px 1px rgba(0, 0, 0, 0.15);\n",
              "      filter: drop-shadow(0px 1px 2px rgba(0, 0, 0, 0.3));\n",
              "      fill: #FFFFFF;\n",
              "    }\n",
              "  </style>\n",
              "\n",
              "      <script>\n",
              "        const buttonEl =\n",
              "          document.querySelector('#df-0e63c84f-3eee-40fa-be86-38956e180078 button.colab-df-convert');\n",
              "        buttonEl.style.display =\n",
              "          google.colab.kernel.accessAllowed ? 'block' : 'none';\n",
              "\n",
              "        async function convertToInteractive(key) {\n",
              "          const element = document.querySelector('#df-0e63c84f-3eee-40fa-be86-38956e180078');\n",
              "          const dataTable =\n",
              "            await google.colab.kernel.invokeFunction('convertToInteractive',\n",
              "                                                     [key], {});\n",
              "          if (!dataTable) return;\n",
              "\n",
              "          const docLinkHtml = 'Like what you see? Visit the ' +\n",
              "            '<a target=\"_blank\" href=https://colab.research.google.com/notebooks/data_table.ipynb>data table notebook</a>'\n",
              "            + ' to learn more about interactive tables.';\n",
              "          element.innerHTML = '';\n",
              "          dataTable['output_type'] = 'display_data';\n",
              "          await google.colab.output.renderOutput(dataTable, element);\n",
              "          const docLink = document.createElement('div');\n",
              "          docLink.innerHTML = docLinkHtml;\n",
              "          element.appendChild(docLink);\n",
              "        }\n",
              "      </script>\n",
              "    </div>\n",
              "  </div>\n"
            ]
          },
          "metadata": {},
          "execution_count": 3
        }
      ]
    },
    {
      "cell_type": "markdown",
      "source": [
        "##**Data Cleansing**\n"
      ],
      "metadata": {
        "id": "r1Izy2B4z_z9"
      }
    },
    {
      "cell_type": "markdown",
      "source": [
        "###Removing Punctuations"
      ],
      "metadata": {
        "id": "x-KTtNtkzKuZ"
      }
    },
    {
      "cell_type": "code",
      "source": [
        "#list of punctuations\n",
        "string.punctuation"
      ],
      "metadata": {
        "colab": {
          "base_uri": "https://localhost:8080/",
          "height": 35
        },
        "id": "0PD-0w02x8JP",
        "outputId": "b0266acd-3e1d-42fc-a1ae-73d0249f07d1"
      },
      "execution_count": null,
      "outputs": [
        {
          "output_type": "execute_result",
          "data": {
            "text/plain": [
              "'!\"#$%&\\'()*+,-./:;<=>?@[\\\\]^_`{|}~'"
            ],
            "application/vnd.google.colaboratory.intrinsic+json": {
              "type": "string"
            }
          },
          "metadata": {},
          "execution_count": 4
        }
      ]
    },
    {
      "cell_type": "code",
      "source": [
        "# example of taking out punctuations\n",
        "nopunc = [char for char in news_data['News Title'][1] if char not in string.punctuation]\n",
        "nopunc = ''.join(nopunc)\n",
        "nopunc = nopunc.lower()\n",
        "\n",
        "print(\"Before: {} \\n After: {}\".format(news_data['News Title'][1], nopunc))"
      ],
      "metadata": {
        "colab": {
          "base_uri": "https://localhost:8080/"
        },
        "id": "L3FJEpB7yT-j",
        "outputId": "8c9be092-671e-43c0-8306-0806b501f03d"
      },
      "execution_count": null,
      "outputs": [
        {
          "output_type": "stream",
          "name": "stdout",
          "text": [
            "Before: Google+ rolls out 'Stories' for tricked out photo playback \n",
            " After: google rolls out stories for tricked out photo playback\n"
          ]
        }
      ]
    },
    {
      "cell_type": "markdown",
      "source": [
        "###Tokenization\n"
      ],
      "metadata": {
        "id": "bET_irRXzSoe"
      }
    },
    {
      "cell_type": "code",
      "source": [
        "# example tokenization\n",
        "word_tokens = word_tokenize(nopunc)\n",
        "word_tokens"
      ],
      "metadata": {
        "colab": {
          "base_uri": "https://localhost:8080/"
        },
        "id": "1DfgpqEMzZYt",
        "outputId": "1e71cea2-f092-40c9-9d85-34e9ba805146"
      },
      "execution_count": null,
      "outputs": [
        {
          "output_type": "execute_result",
          "data": {
            "text/plain": [
              "['google',\n",
              " 'rolls',\n",
              " 'out',\n",
              " 'stories',\n",
              " 'for',\n",
              " 'tricked',\n",
              " 'out',\n",
              " 'photo',\n",
              " 'playback']"
            ]
          },
          "metadata": {},
          "execution_count": 6
        }
      ]
    },
    {
      "cell_type": "markdown",
      "source": [
        "###Removing Stopwords"
      ],
      "metadata": {
        "id": "hCnwKljBzgAQ"
      }
    },
    {
      "cell_type": "code",
      "source": [
        "# example implementation of stopwords\n",
        "stop_words = set(stopwords.words('english'))\n",
        "\n",
        "clean_words = [w for w in word_tokens if not w in stop_words]\n",
        "clean_words"
      ],
      "metadata": {
        "colab": {
          "base_uri": "https://localhost:8080/"
        },
        "id": "KbHBiHgFzndi",
        "outputId": "af22013a-3123-42f8-ac5d-cd93869759bd"
      },
      "execution_count": null,
      "outputs": [
        {
          "output_type": "execute_result",
          "data": {
            "text/plain": [
              "['google', 'rolls', 'stories', 'tricked', 'photo', 'playback']"
            ]
          },
          "metadata": {},
          "execution_count": 7
        }
      ]
    },
    {
      "cell_type": "markdown",
      "source": [
        "\n",
        "\n",
        "---\n",
        "\n"
      ],
      "metadata": {
        "id": "ga_-1xy7zvqt"
      }
    },
    {
      "cell_type": "code",
      "source": [
        "#apply to dataframe\n",
        "\n",
        "def punctuation_removal(text):\n",
        "  #remove punctuation that is not important\n",
        "  nopunc = [char for char in text if char not in string.punctuation]\n",
        "  nopunc = ''.join(nopunc)\n",
        "  nopunc = nopunc.lower()\n",
        "  return nopunc\n",
        "\n",
        "def tokenization(text):\n",
        "  word_tokens = word_tokenize(text)\n",
        "  return word_tokens\n",
        "\n",
        "def stopword_removal(text):\n",
        "  #remove useless words in data\n",
        "  stop_words = set(stopwords.words('english'))\n",
        "  clean_words = [w for w in text if not w in stop_words]\n",
        "  return clean_words\n"
      ],
      "metadata": {
        "id": "Gu_vvMIHuauQ"
      },
      "execution_count": null,
      "outputs": []
    },
    {
      "cell_type": "code",
      "source": [
        "news_data['News Title (Punctuation Removed)'] = news_data['News Title'].apply(punctuation_removal)\n",
        "news_data['News Title (Tokenized)'] = news_data['News Title (Punctuation Removed)'].apply(tokenization)\n",
        "news_data['News Title (Stopword Removed)'] = news_data['News Title (Tokenized)'].apply(stopword_removal)"
      ],
      "metadata": {
        "id": "kbZwvN7AulKT"
      },
      "execution_count": null,
      "outputs": []
    },
    {
      "cell_type": "code",
      "source": [
        "news_data.head()"
      ],
      "metadata": {
        "colab": {
          "base_uri": "https://localhost:8080/",
          "height": 351
        },
        "id": "0xMp2BOf5zkT",
        "outputId": "8c214b20-5858-4e0b-c9c2-befd98464470"
      },
      "execution_count": null,
      "outputs": [
        {
          "output_type": "execute_result",
          "data": {
            "text/plain": [
              "                                           News Title       Category  \\\n",
              "No                                                                     \n",
              "1   Google+ rolls out 'Stories' for tricked out ph...     Technology   \n",
              "2                     Dov Charney's Redeeming Quality       Business   \n",
              "3    White God adds Un Certain Regard to the Palm Dog  Entertainment   \n",
              "4   Google shows off Androids for wearables, cars,...     Technology   \n",
              "5          China May new bank loans at 870.8 bln yuan       Business   \n",
              "\n",
              "                     News Title (Punctuation Removed)  \\\n",
              "No                                                      \n",
              "1   google rolls out stories for tricked out photo...   \n",
              "2                      dov charneys redeeming quality   \n",
              "3    white god adds un certain regard to the palm dog   \n",
              "4    google shows off androids for wearables cars tvs   \n",
              "5           china may new bank loans at 8708 bln yuan   \n",
              "\n",
              "                               News Title (Tokenized)  \\\n",
              "No                                                      \n",
              "1   [google, rolls, out, stories, for, tricked, ou...   \n",
              "2                 [dov, charneys, redeeming, quality]   \n",
              "3   [white, god, adds, un, certain, regard, to, th...   \n",
              "4   [google, shows, off, androids, for, wearables,...   \n",
              "5   [china, may, new, bank, loans, at, 8708, bln, ...   \n",
              "\n",
              "                        News Title (Stopword Removed)  \n",
              "No                                                     \n",
              "1   [google, rolls, stories, tricked, photo, playb...  \n",
              "2                 [dov, charneys, redeeming, quality]  \n",
              "3   [white, god, adds, un, certain, regard, palm, ...  \n",
              "4     [google, shows, androids, wearables, cars, tvs]  \n",
              "5     [china, may, new, bank, loans, 8708, bln, yuan]  "
            ],
            "text/html": [
              "\n",
              "\n",
              "  <div id=\"df-a44cf4df-4fe9-4f59-a0d4-2c935a2dcf32\">\n",
              "    <div class=\"colab-df-container\">\n",
              "      <div>\n",
              "<style scoped>\n",
              "    .dataframe tbody tr th:only-of-type {\n",
              "        vertical-align: middle;\n",
              "    }\n",
              "\n",
              "    .dataframe tbody tr th {\n",
              "        vertical-align: top;\n",
              "    }\n",
              "\n",
              "    .dataframe thead th {\n",
              "        text-align: right;\n",
              "    }\n",
              "</style>\n",
              "<table border=\"1\" class=\"dataframe\">\n",
              "  <thead>\n",
              "    <tr style=\"text-align: right;\">\n",
              "      <th></th>\n",
              "      <th>News Title</th>\n",
              "      <th>Category</th>\n",
              "      <th>News Title (Punctuation Removed)</th>\n",
              "      <th>News Title (Tokenized)</th>\n",
              "      <th>News Title (Stopword Removed)</th>\n",
              "    </tr>\n",
              "    <tr>\n",
              "      <th>No</th>\n",
              "      <th></th>\n",
              "      <th></th>\n",
              "      <th></th>\n",
              "      <th></th>\n",
              "      <th></th>\n",
              "    </tr>\n",
              "  </thead>\n",
              "  <tbody>\n",
              "    <tr>\n",
              "      <th>1</th>\n",
              "      <td>Google+ rolls out 'Stories' for tricked out ph...</td>\n",
              "      <td>Technology</td>\n",
              "      <td>google rolls out stories for tricked out photo...</td>\n",
              "      <td>[google, rolls, out, stories, for, tricked, ou...</td>\n",
              "      <td>[google, rolls, stories, tricked, photo, playb...</td>\n",
              "    </tr>\n",
              "    <tr>\n",
              "      <th>2</th>\n",
              "      <td>Dov Charney's Redeeming Quality</td>\n",
              "      <td>Business</td>\n",
              "      <td>dov charneys redeeming quality</td>\n",
              "      <td>[dov, charneys, redeeming, quality]</td>\n",
              "      <td>[dov, charneys, redeeming, quality]</td>\n",
              "    </tr>\n",
              "    <tr>\n",
              "      <th>3</th>\n",
              "      <td>White God adds Un Certain Regard to the Palm Dog</td>\n",
              "      <td>Entertainment</td>\n",
              "      <td>white god adds un certain regard to the palm dog</td>\n",
              "      <td>[white, god, adds, un, certain, regard, to, th...</td>\n",
              "      <td>[white, god, adds, un, certain, regard, palm, ...</td>\n",
              "    </tr>\n",
              "    <tr>\n",
              "      <th>4</th>\n",
              "      <td>Google shows off Androids for wearables, cars,...</td>\n",
              "      <td>Technology</td>\n",
              "      <td>google shows off androids for wearables cars tvs</td>\n",
              "      <td>[google, shows, off, androids, for, wearables,...</td>\n",
              "      <td>[google, shows, androids, wearables, cars, tvs]</td>\n",
              "    </tr>\n",
              "    <tr>\n",
              "      <th>5</th>\n",
              "      <td>China May new bank loans at 870.8 bln yuan</td>\n",
              "      <td>Business</td>\n",
              "      <td>china may new bank loans at 8708 bln yuan</td>\n",
              "      <td>[china, may, new, bank, loans, at, 8708, bln, ...</td>\n",
              "      <td>[china, may, new, bank, loans, 8708, bln, yuan]</td>\n",
              "    </tr>\n",
              "  </tbody>\n",
              "</table>\n",
              "</div>\n",
              "      <button class=\"colab-df-convert\" onclick=\"convertToInteractive('df-a44cf4df-4fe9-4f59-a0d4-2c935a2dcf32')\"\n",
              "              title=\"Convert this dataframe to an interactive table.\"\n",
              "              style=\"display:none;\">\n",
              "\n",
              "  <svg xmlns=\"http://www.w3.org/2000/svg\" height=\"24px\"viewBox=\"0 0 24 24\"\n",
              "       width=\"24px\">\n",
              "    <path d=\"M0 0h24v24H0V0z\" fill=\"none\"/>\n",
              "    <path d=\"M18.56 5.44l.94 2.06.94-2.06 2.06-.94-2.06-.94-.94-2.06-.94 2.06-2.06.94zm-11 1L8.5 8.5l.94-2.06 2.06-.94-2.06-.94L8.5 2.5l-.94 2.06-2.06.94zm10 10l.94 2.06.94-2.06 2.06-.94-2.06-.94-.94-2.06-.94 2.06-2.06.94z\"/><path d=\"M17.41 7.96l-1.37-1.37c-.4-.4-.92-.59-1.43-.59-.52 0-1.04.2-1.43.59L10.3 9.45l-7.72 7.72c-.78.78-.78 2.05 0 2.83L4 21.41c.39.39.9.59 1.41.59.51 0 1.02-.2 1.41-.59l7.78-7.78 2.81-2.81c.8-.78.8-2.07 0-2.86zM5.41 20L4 18.59l7.72-7.72 1.47 1.35L5.41 20z\"/>\n",
              "  </svg>\n",
              "      </button>\n",
              "\n",
              "\n",
              "\n",
              "    <div id=\"df-608e0a6d-085e-4ca8-904d-d48993a48372\">\n",
              "      <button class=\"colab-df-quickchart\" onclick=\"quickchart('df-608e0a6d-085e-4ca8-904d-d48993a48372')\"\n",
              "              title=\"Suggest charts.\"\n",
              "              style=\"display:none;\">\n",
              "\n",
              "<svg xmlns=\"http://www.w3.org/2000/svg\" height=\"24px\"viewBox=\"0 0 24 24\"\n",
              "     width=\"24px\">\n",
              "    <g>\n",
              "        <path d=\"M19 3H5c-1.1 0-2 .9-2 2v14c0 1.1.9 2 2 2h14c1.1 0 2-.9 2-2V5c0-1.1-.9-2-2-2zM9 17H7v-7h2v7zm4 0h-2V7h2v10zm4 0h-2v-4h2v4z\"/>\n",
              "    </g>\n",
              "</svg>\n",
              "      </button>\n",
              "    </div>\n",
              "\n",
              "<style>\n",
              "  .colab-df-quickchart {\n",
              "    background-color: #E8F0FE;\n",
              "    border: none;\n",
              "    border-radius: 50%;\n",
              "    cursor: pointer;\n",
              "    display: none;\n",
              "    fill: #1967D2;\n",
              "    height: 32px;\n",
              "    padding: 0 0 0 0;\n",
              "    width: 32px;\n",
              "  }\n",
              "\n",
              "  .colab-df-quickchart:hover {\n",
              "    background-color: #E2EBFA;\n",
              "    box-shadow: 0px 1px 2px rgba(60, 64, 67, 0.3), 0px 1px 3px 1px rgba(60, 64, 67, 0.15);\n",
              "    fill: #174EA6;\n",
              "  }\n",
              "\n",
              "  [theme=dark] .colab-df-quickchart {\n",
              "    background-color: #3B4455;\n",
              "    fill: #D2E3FC;\n",
              "  }\n",
              "\n",
              "  [theme=dark] .colab-df-quickchart:hover {\n",
              "    background-color: #434B5C;\n",
              "    box-shadow: 0px 1px 3px 1px rgba(0, 0, 0, 0.15);\n",
              "    filter: drop-shadow(0px 1px 2px rgba(0, 0, 0, 0.3));\n",
              "    fill: #FFFFFF;\n",
              "  }\n",
              "</style>\n",
              "\n",
              "    <script>\n",
              "      async function quickchart(key) {\n",
              "        const containerElement = document.querySelector('#' + key);\n",
              "        const charts = await google.colab.kernel.invokeFunction(\n",
              "            'suggestCharts', [key], {});\n",
              "      }\n",
              "    </script>\n",
              "\n",
              "      <script>\n",
              "\n",
              "function displayQuickchartButton(domScope) {\n",
              "  let quickchartButtonEl =\n",
              "    domScope.querySelector('#df-608e0a6d-085e-4ca8-904d-d48993a48372 button.colab-df-quickchart');\n",
              "  quickchartButtonEl.style.display =\n",
              "    google.colab.kernel.accessAllowed ? 'block' : 'none';\n",
              "}\n",
              "\n",
              "        displayQuickchartButton(document);\n",
              "      </script>\n",
              "      <style>\n",
              "    .colab-df-container {\n",
              "      display:flex;\n",
              "      flex-wrap:wrap;\n",
              "      gap: 12px;\n",
              "    }\n",
              "\n",
              "    .colab-df-convert {\n",
              "      background-color: #E8F0FE;\n",
              "      border: none;\n",
              "      border-radius: 50%;\n",
              "      cursor: pointer;\n",
              "      display: none;\n",
              "      fill: #1967D2;\n",
              "      height: 32px;\n",
              "      padding: 0 0 0 0;\n",
              "      width: 32px;\n",
              "    }\n",
              "\n",
              "    .colab-df-convert:hover {\n",
              "      background-color: #E2EBFA;\n",
              "      box-shadow: 0px 1px 2px rgba(60, 64, 67, 0.3), 0px 1px 3px 1px rgba(60, 64, 67, 0.15);\n",
              "      fill: #174EA6;\n",
              "    }\n",
              "\n",
              "    [theme=dark] .colab-df-convert {\n",
              "      background-color: #3B4455;\n",
              "      fill: #D2E3FC;\n",
              "    }\n",
              "\n",
              "    [theme=dark] .colab-df-convert:hover {\n",
              "      background-color: #434B5C;\n",
              "      box-shadow: 0px 1px 3px 1px rgba(0, 0, 0, 0.15);\n",
              "      filter: drop-shadow(0px 1px 2px rgba(0, 0, 0, 0.3));\n",
              "      fill: #FFFFFF;\n",
              "    }\n",
              "  </style>\n",
              "\n",
              "      <script>\n",
              "        const buttonEl =\n",
              "          document.querySelector('#df-a44cf4df-4fe9-4f59-a0d4-2c935a2dcf32 button.colab-df-convert');\n",
              "        buttonEl.style.display =\n",
              "          google.colab.kernel.accessAllowed ? 'block' : 'none';\n",
              "\n",
              "        async function convertToInteractive(key) {\n",
              "          const element = document.querySelector('#df-a44cf4df-4fe9-4f59-a0d4-2c935a2dcf32');\n",
              "          const dataTable =\n",
              "            await google.colab.kernel.invokeFunction('convertToInteractive',\n",
              "                                                     [key], {});\n",
              "          if (!dataTable) return;\n",
              "\n",
              "          const docLinkHtml = 'Like what you see? Visit the ' +\n",
              "            '<a target=\"_blank\" href=https://colab.research.google.com/notebooks/data_table.ipynb>data table notebook</a>'\n",
              "            + ' to learn more about interactive tables.';\n",
              "          element.innerHTML = '';\n",
              "          dataTable['output_type'] = 'display_data';\n",
              "          await google.colab.output.renderOutput(dataTable, element);\n",
              "          const docLink = document.createElement('div');\n",
              "          docLink.innerHTML = docLinkHtml;\n",
              "          element.appendChild(docLink);\n",
              "        }\n",
              "      </script>\n",
              "    </div>\n",
              "  </div>\n"
            ]
          },
          "metadata": {},
          "execution_count": 10
        }
      ]
    },
    {
      "cell_type": "markdown",
      "source": [
        "#**Data Pre-processing**"
      ],
      "metadata": {
        "id": "BBiT02oHz4Kj"
      }
    },
    {
      "cell_type": "markdown",
      "source": [
        "###Stemming\n"
      ],
      "metadata": {
        "id": "pSyAncEq0Fat"
      }
    },
    {
      "cell_type": "code",
      "source": [
        "# example implementation of stemming\n",
        "ps = PorterStemmer()\n",
        "\n",
        "stemmed_words = []\n",
        "\n",
        "for w in clean_words:\n",
        "  stemmed_words.append(ps.stem(w))\n",
        "\n",
        "' '.join(stemmed_words)\n"
      ],
      "metadata": {
        "colab": {
          "base_uri": "https://localhost:8080/",
          "height": 35
        },
        "id": "H3bNAnk1wMPg",
        "outputId": "37637ce0-4bea-4864-ee4e-9d1a666507ac"
      },
      "execution_count": null,
      "outputs": [
        {
          "output_type": "execute_result",
          "data": {
            "text/plain": [
              "'googl roll stori trick photo playback'"
            ],
            "application/vnd.google.colaboratory.intrinsic+json": {
              "type": "string"
            }
          },
          "metadata": {},
          "execution_count": 11
        }
      ]
    },
    {
      "cell_type": "markdown",
      "source": [
        "###Lemmatization"
      ],
      "metadata": {
        "id": "Dqu8wOhx0SvK"
      }
    },
    {
      "cell_type": "code",
      "source": [
        "# example implementation of lemmatization\n",
        "lem = WordNetLemmatizer()\n",
        "\n",
        "lem_words = []\n",
        "\n",
        "for w in clean_words:\n",
        "  lem_words.append(lem.lemmatize(w))\n",
        "\n",
        "' '.join(lem_words)"
      ],
      "metadata": {
        "colab": {
          "base_uri": "https://localhost:8080/",
          "height": 35
        },
        "id": "ErxuMAgJ0ZqN",
        "outputId": "e3a0a0b2-aeb4-4416-e236-f5d661abeb47"
      },
      "execution_count": null,
      "outputs": [
        {
          "output_type": "execute_result",
          "data": {
            "text/plain": [
              "'google roll story tricked photo playback'"
            ],
            "application/vnd.google.colaboratory.intrinsic+json": {
              "type": "string"
            }
          },
          "metadata": {},
          "execution_count": 12
        }
      ]
    },
    {
      "cell_type": "code",
      "source": [
        "#apply to dataframe\n",
        "\n",
        "def stemming(text):\n",
        "  stemmed_words = []\n",
        "  for w in text:\n",
        "    stemmed_words.append(ps.stem(w))\n",
        "  return ' '.join(stemmed_words)\n",
        "\n",
        "def lemmatization(text):\n",
        "  lem_words = []\n",
        "  for w in text:\n",
        "    lem_words.append(lem.lemmatize(w))\n",
        "  return ' '.join(lem_words)\n"
      ],
      "metadata": {
        "id": "aPFCP7yQr2QB"
      },
      "execution_count": null,
      "outputs": []
    },
    {
      "cell_type": "code",
      "source": [
        "news_data['News Title (Stemming)'] = news_data['News Title (Stopword Removed)'].apply(stemming)\n",
        "news_data['News Title (Lemmatization)'] = news_data['News Title (Stopword Removed)'].apply(lemmatization)\n",
        "\n",
        "news_data.head()"
      ],
      "metadata": {
        "colab": {
          "base_uri": "https://localhost:8080/",
          "height": 386
        },
        "id": "vUArLyvasPXW",
        "outputId": "1d9e059b-503f-496b-ccad-abc7b68cc5fe"
      },
      "execution_count": null,
      "outputs": [
        {
          "output_type": "execute_result",
          "data": {
            "text/plain": [
              "                                           News Title       Category  \\\n",
              "No                                                                     \n",
              "1   Google+ rolls out 'Stories' for tricked out ph...     Technology   \n",
              "2                     Dov Charney's Redeeming Quality       Business   \n",
              "3    White God adds Un Certain Regard to the Palm Dog  Entertainment   \n",
              "4   Google shows off Androids for wearables, cars,...     Technology   \n",
              "5          China May new bank loans at 870.8 bln yuan       Business   \n",
              "\n",
              "                     News Title (Punctuation Removed)  \\\n",
              "No                                                      \n",
              "1   google rolls out stories for tricked out photo...   \n",
              "2                      dov charneys redeeming quality   \n",
              "3    white god adds un certain regard to the palm dog   \n",
              "4    google shows off androids for wearables cars tvs   \n",
              "5           china may new bank loans at 8708 bln yuan   \n",
              "\n",
              "                               News Title (Tokenized)  \\\n",
              "No                                                      \n",
              "1   [google, rolls, out, stories, for, tricked, ou...   \n",
              "2                 [dov, charneys, redeeming, quality]   \n",
              "3   [white, god, adds, un, certain, regard, to, th...   \n",
              "4   [google, shows, off, androids, for, wearables,...   \n",
              "5   [china, may, new, bank, loans, at, 8708, bln, ...   \n",
              "\n",
              "                        News Title (Stopword Removed)  \\\n",
              "No                                                      \n",
              "1   [google, rolls, stories, tricked, photo, playb...   \n",
              "2                 [dov, charneys, redeeming, quality]   \n",
              "3   [white, god, adds, un, certain, regard, palm, ...   \n",
              "4     [google, shows, androids, wearables, cars, tvs]   \n",
              "5     [china, may, new, bank, loans, 8708, bln, yuan]   \n",
              "\n",
              "                       News Title (Stemming)  \\\n",
              "No                                             \n",
              "1      googl roll stori trick photo playback   \n",
              "2                 dov charney redeem qualiti   \n",
              "3   white god add un certain regard palm dog   \n",
              "4          googl show android wearabl car tv   \n",
              "5      china may new bank loan 8708 bln yuan   \n",
              "\n",
              "                  News Title (Lemmatization)  \n",
              "No                                            \n",
              "1   google roll story tricked photo playback  \n",
              "2             dov charneys redeeming quality  \n",
              "3   white god add un certain regard palm dog  \n",
              "4        google show android wearable car tv  \n",
              "5      china may new bank loan 8708 bln yuan  "
            ],
            "text/html": [
              "\n",
              "\n",
              "  <div id=\"df-4e52d11c-8cc6-43d2-a84b-52af6cd73168\">\n",
              "    <div class=\"colab-df-container\">\n",
              "      <div>\n",
              "<style scoped>\n",
              "    .dataframe tbody tr th:only-of-type {\n",
              "        vertical-align: middle;\n",
              "    }\n",
              "\n",
              "    .dataframe tbody tr th {\n",
              "        vertical-align: top;\n",
              "    }\n",
              "\n",
              "    .dataframe thead th {\n",
              "        text-align: right;\n",
              "    }\n",
              "</style>\n",
              "<table border=\"1\" class=\"dataframe\">\n",
              "  <thead>\n",
              "    <tr style=\"text-align: right;\">\n",
              "      <th></th>\n",
              "      <th>News Title</th>\n",
              "      <th>Category</th>\n",
              "      <th>News Title (Punctuation Removed)</th>\n",
              "      <th>News Title (Tokenized)</th>\n",
              "      <th>News Title (Stopword Removed)</th>\n",
              "      <th>News Title (Stemming)</th>\n",
              "      <th>News Title (Lemmatization)</th>\n",
              "    </tr>\n",
              "    <tr>\n",
              "      <th>No</th>\n",
              "      <th></th>\n",
              "      <th></th>\n",
              "      <th></th>\n",
              "      <th></th>\n",
              "      <th></th>\n",
              "      <th></th>\n",
              "      <th></th>\n",
              "    </tr>\n",
              "  </thead>\n",
              "  <tbody>\n",
              "    <tr>\n",
              "      <th>1</th>\n",
              "      <td>Google+ rolls out 'Stories' for tricked out ph...</td>\n",
              "      <td>Technology</td>\n",
              "      <td>google rolls out stories for tricked out photo...</td>\n",
              "      <td>[google, rolls, out, stories, for, tricked, ou...</td>\n",
              "      <td>[google, rolls, stories, tricked, photo, playb...</td>\n",
              "      <td>googl roll stori trick photo playback</td>\n",
              "      <td>google roll story tricked photo playback</td>\n",
              "    </tr>\n",
              "    <tr>\n",
              "      <th>2</th>\n",
              "      <td>Dov Charney's Redeeming Quality</td>\n",
              "      <td>Business</td>\n",
              "      <td>dov charneys redeeming quality</td>\n",
              "      <td>[dov, charneys, redeeming, quality]</td>\n",
              "      <td>[dov, charneys, redeeming, quality]</td>\n",
              "      <td>dov charney redeem qualiti</td>\n",
              "      <td>dov charneys redeeming quality</td>\n",
              "    </tr>\n",
              "    <tr>\n",
              "      <th>3</th>\n",
              "      <td>White God adds Un Certain Regard to the Palm Dog</td>\n",
              "      <td>Entertainment</td>\n",
              "      <td>white god adds un certain regard to the palm dog</td>\n",
              "      <td>[white, god, adds, un, certain, regard, to, th...</td>\n",
              "      <td>[white, god, adds, un, certain, regard, palm, ...</td>\n",
              "      <td>white god add un certain regard palm dog</td>\n",
              "      <td>white god add un certain regard palm dog</td>\n",
              "    </tr>\n",
              "    <tr>\n",
              "      <th>4</th>\n",
              "      <td>Google shows off Androids for wearables, cars,...</td>\n",
              "      <td>Technology</td>\n",
              "      <td>google shows off androids for wearables cars tvs</td>\n",
              "      <td>[google, shows, off, androids, for, wearables,...</td>\n",
              "      <td>[google, shows, androids, wearables, cars, tvs]</td>\n",
              "      <td>googl show android wearabl car tv</td>\n",
              "      <td>google show android wearable car tv</td>\n",
              "    </tr>\n",
              "    <tr>\n",
              "      <th>5</th>\n",
              "      <td>China May new bank loans at 870.8 bln yuan</td>\n",
              "      <td>Business</td>\n",
              "      <td>china may new bank loans at 8708 bln yuan</td>\n",
              "      <td>[china, may, new, bank, loans, at, 8708, bln, ...</td>\n",
              "      <td>[china, may, new, bank, loans, 8708, bln, yuan]</td>\n",
              "      <td>china may new bank loan 8708 bln yuan</td>\n",
              "      <td>china may new bank loan 8708 bln yuan</td>\n",
              "    </tr>\n",
              "  </tbody>\n",
              "</table>\n",
              "</div>\n",
              "      <button class=\"colab-df-convert\" onclick=\"convertToInteractive('df-4e52d11c-8cc6-43d2-a84b-52af6cd73168')\"\n",
              "              title=\"Convert this dataframe to an interactive table.\"\n",
              "              style=\"display:none;\">\n",
              "\n",
              "  <svg xmlns=\"http://www.w3.org/2000/svg\" height=\"24px\"viewBox=\"0 0 24 24\"\n",
              "       width=\"24px\">\n",
              "    <path d=\"M0 0h24v24H0V0z\" fill=\"none\"/>\n",
              "    <path d=\"M18.56 5.44l.94 2.06.94-2.06 2.06-.94-2.06-.94-.94-2.06-.94 2.06-2.06.94zm-11 1L8.5 8.5l.94-2.06 2.06-.94-2.06-.94L8.5 2.5l-.94 2.06-2.06.94zm10 10l.94 2.06.94-2.06 2.06-.94-2.06-.94-.94-2.06-.94 2.06-2.06.94z\"/><path d=\"M17.41 7.96l-1.37-1.37c-.4-.4-.92-.59-1.43-.59-.52 0-1.04.2-1.43.59L10.3 9.45l-7.72 7.72c-.78.78-.78 2.05 0 2.83L4 21.41c.39.39.9.59 1.41.59.51 0 1.02-.2 1.41-.59l7.78-7.78 2.81-2.81c.8-.78.8-2.07 0-2.86zM5.41 20L4 18.59l7.72-7.72 1.47 1.35L5.41 20z\"/>\n",
              "  </svg>\n",
              "      </button>\n",
              "\n",
              "\n",
              "\n",
              "    <div id=\"df-49aa5f30-f324-4dcb-aeb6-c2e00e74c018\">\n",
              "      <button class=\"colab-df-quickchart\" onclick=\"quickchart('df-49aa5f30-f324-4dcb-aeb6-c2e00e74c018')\"\n",
              "              title=\"Suggest charts.\"\n",
              "              style=\"display:none;\">\n",
              "\n",
              "<svg xmlns=\"http://www.w3.org/2000/svg\" height=\"24px\"viewBox=\"0 0 24 24\"\n",
              "     width=\"24px\">\n",
              "    <g>\n",
              "        <path d=\"M19 3H5c-1.1 0-2 .9-2 2v14c0 1.1.9 2 2 2h14c1.1 0 2-.9 2-2V5c0-1.1-.9-2-2-2zM9 17H7v-7h2v7zm4 0h-2V7h2v10zm4 0h-2v-4h2v4z\"/>\n",
              "    </g>\n",
              "</svg>\n",
              "      </button>\n",
              "    </div>\n",
              "\n",
              "<style>\n",
              "  .colab-df-quickchart {\n",
              "    background-color: #E8F0FE;\n",
              "    border: none;\n",
              "    border-radius: 50%;\n",
              "    cursor: pointer;\n",
              "    display: none;\n",
              "    fill: #1967D2;\n",
              "    height: 32px;\n",
              "    padding: 0 0 0 0;\n",
              "    width: 32px;\n",
              "  }\n",
              "\n",
              "  .colab-df-quickchart:hover {\n",
              "    background-color: #E2EBFA;\n",
              "    box-shadow: 0px 1px 2px rgba(60, 64, 67, 0.3), 0px 1px 3px 1px rgba(60, 64, 67, 0.15);\n",
              "    fill: #174EA6;\n",
              "  }\n",
              "\n",
              "  [theme=dark] .colab-df-quickchart {\n",
              "    background-color: #3B4455;\n",
              "    fill: #D2E3FC;\n",
              "  }\n",
              "\n",
              "  [theme=dark] .colab-df-quickchart:hover {\n",
              "    background-color: #434B5C;\n",
              "    box-shadow: 0px 1px 3px 1px rgba(0, 0, 0, 0.15);\n",
              "    filter: drop-shadow(0px 1px 2px rgba(0, 0, 0, 0.3));\n",
              "    fill: #FFFFFF;\n",
              "  }\n",
              "</style>\n",
              "\n",
              "    <script>\n",
              "      async function quickchart(key) {\n",
              "        const containerElement = document.querySelector('#' + key);\n",
              "        const charts = await google.colab.kernel.invokeFunction(\n",
              "            'suggestCharts', [key], {});\n",
              "      }\n",
              "    </script>\n",
              "\n",
              "      <script>\n",
              "\n",
              "function displayQuickchartButton(domScope) {\n",
              "  let quickchartButtonEl =\n",
              "    domScope.querySelector('#df-49aa5f30-f324-4dcb-aeb6-c2e00e74c018 button.colab-df-quickchart');\n",
              "  quickchartButtonEl.style.display =\n",
              "    google.colab.kernel.accessAllowed ? 'block' : 'none';\n",
              "}\n",
              "\n",
              "        displayQuickchartButton(document);\n",
              "      </script>\n",
              "      <style>\n",
              "    .colab-df-container {\n",
              "      display:flex;\n",
              "      flex-wrap:wrap;\n",
              "      gap: 12px;\n",
              "    }\n",
              "\n",
              "    .colab-df-convert {\n",
              "      background-color: #E8F0FE;\n",
              "      border: none;\n",
              "      border-radius: 50%;\n",
              "      cursor: pointer;\n",
              "      display: none;\n",
              "      fill: #1967D2;\n",
              "      height: 32px;\n",
              "      padding: 0 0 0 0;\n",
              "      width: 32px;\n",
              "    }\n",
              "\n",
              "    .colab-df-convert:hover {\n",
              "      background-color: #E2EBFA;\n",
              "      box-shadow: 0px 1px 2px rgba(60, 64, 67, 0.3), 0px 1px 3px 1px rgba(60, 64, 67, 0.15);\n",
              "      fill: #174EA6;\n",
              "    }\n",
              "\n",
              "    [theme=dark] .colab-df-convert {\n",
              "      background-color: #3B4455;\n",
              "      fill: #D2E3FC;\n",
              "    }\n",
              "\n",
              "    [theme=dark] .colab-df-convert:hover {\n",
              "      background-color: #434B5C;\n",
              "      box-shadow: 0px 1px 3px 1px rgba(0, 0, 0, 0.15);\n",
              "      filter: drop-shadow(0px 1px 2px rgba(0, 0, 0, 0.3));\n",
              "      fill: #FFFFFF;\n",
              "    }\n",
              "  </style>\n",
              "\n",
              "      <script>\n",
              "        const buttonEl =\n",
              "          document.querySelector('#df-4e52d11c-8cc6-43d2-a84b-52af6cd73168 button.colab-df-convert');\n",
              "        buttonEl.style.display =\n",
              "          google.colab.kernel.accessAllowed ? 'block' : 'none';\n",
              "\n",
              "        async function convertToInteractive(key) {\n",
              "          const element = document.querySelector('#df-4e52d11c-8cc6-43d2-a84b-52af6cd73168');\n",
              "          const dataTable =\n",
              "            await google.colab.kernel.invokeFunction('convertToInteractive',\n",
              "                                                     [key], {});\n",
              "          if (!dataTable) return;\n",
              "\n",
              "          const docLinkHtml = 'Like what you see? Visit the ' +\n",
              "            '<a target=\"_blank\" href=https://colab.research.google.com/notebooks/data_table.ipynb>data table notebook</a>'\n",
              "            + ' to learn more about interactive tables.';\n",
              "          element.innerHTML = '';\n",
              "          dataTable['output_type'] = 'display_data';\n",
              "          await google.colab.output.renderOutput(dataTable, element);\n",
              "          const docLink = document.createElement('div');\n",
              "          docLink.innerHTML = docLinkHtml;\n",
              "          element.appendChild(docLink);\n",
              "        }\n",
              "      </script>\n",
              "    </div>\n",
              "  </div>\n"
            ]
          },
          "metadata": {},
          "execution_count": 14
        }
      ]
    },
    {
      "cell_type": "markdown",
      "source": [
        "###Bag of Words"
      ],
      "metadata": {
        "id": "1U713L0Us4S0"
      }
    },
    {
      "cell_type": "code",
      "source": [
        "#example Bag of Words\n",
        "\n",
        "sent1 = 'my favorite search engine is google'\n",
        "sent2 = 'hell ya google'\n",
        "\n",
        "cv = CountVectorizer()\n",
        "\n",
        "X = cv.fit_transform([sent1,sent2])\n",
        "\n",
        "bow_sklearn = pd.DataFrame(X.toarray(),columns=cv.get_feature_names_out()) # newer version of scikit-learn use \"cv.get_feature_names()\"\n",
        "bow_sklearn.head()"
      ],
      "metadata": {
        "colab": {
          "base_uri": "https://localhost:8080/",
          "height": 112
        },
        "id": "YWeO8h_gse-M",
        "outputId": "ccb45b81-3ff8-450b-ebe4-66b872049f19"
      },
      "execution_count": null,
      "outputs": [
        {
          "output_type": "execute_result",
          "data": {
            "text/plain": [
              "   engine  favorite  google  hell  is  my  search  ya\n",
              "0       1         1       1     0   1   1       1   0\n",
              "1       0         0       1     1   0   0       0   1"
            ],
            "text/html": [
              "\n",
              "\n",
              "  <div id=\"df-8af2fcc3-aa6f-4421-b2e9-0549c5c3145e\">\n",
              "    <div class=\"colab-df-container\">\n",
              "      <div>\n",
              "<style scoped>\n",
              "    .dataframe tbody tr th:only-of-type {\n",
              "        vertical-align: middle;\n",
              "    }\n",
              "\n",
              "    .dataframe tbody tr th {\n",
              "        vertical-align: top;\n",
              "    }\n",
              "\n",
              "    .dataframe thead th {\n",
              "        text-align: right;\n",
              "    }\n",
              "</style>\n",
              "<table border=\"1\" class=\"dataframe\">\n",
              "  <thead>\n",
              "    <tr style=\"text-align: right;\">\n",
              "      <th></th>\n",
              "      <th>engine</th>\n",
              "      <th>favorite</th>\n",
              "      <th>google</th>\n",
              "      <th>hell</th>\n",
              "      <th>is</th>\n",
              "      <th>my</th>\n",
              "      <th>search</th>\n",
              "      <th>ya</th>\n",
              "    </tr>\n",
              "  </thead>\n",
              "  <tbody>\n",
              "    <tr>\n",
              "      <th>0</th>\n",
              "      <td>1</td>\n",
              "      <td>1</td>\n",
              "      <td>1</td>\n",
              "      <td>0</td>\n",
              "      <td>1</td>\n",
              "      <td>1</td>\n",
              "      <td>1</td>\n",
              "      <td>0</td>\n",
              "    </tr>\n",
              "    <tr>\n",
              "      <th>1</th>\n",
              "      <td>0</td>\n",
              "      <td>0</td>\n",
              "      <td>1</td>\n",
              "      <td>1</td>\n",
              "      <td>0</td>\n",
              "      <td>0</td>\n",
              "      <td>0</td>\n",
              "      <td>1</td>\n",
              "    </tr>\n",
              "  </tbody>\n",
              "</table>\n",
              "</div>\n",
              "      <button class=\"colab-df-convert\" onclick=\"convertToInteractive('df-8af2fcc3-aa6f-4421-b2e9-0549c5c3145e')\"\n",
              "              title=\"Convert this dataframe to an interactive table.\"\n",
              "              style=\"display:none;\">\n",
              "\n",
              "  <svg xmlns=\"http://www.w3.org/2000/svg\" height=\"24px\"viewBox=\"0 0 24 24\"\n",
              "       width=\"24px\">\n",
              "    <path d=\"M0 0h24v24H0V0z\" fill=\"none\"/>\n",
              "    <path d=\"M18.56 5.44l.94 2.06.94-2.06 2.06-.94-2.06-.94-.94-2.06-.94 2.06-2.06.94zm-11 1L8.5 8.5l.94-2.06 2.06-.94-2.06-.94L8.5 2.5l-.94 2.06-2.06.94zm10 10l.94 2.06.94-2.06 2.06-.94-2.06-.94-.94-2.06-.94 2.06-2.06.94z\"/><path d=\"M17.41 7.96l-1.37-1.37c-.4-.4-.92-.59-1.43-.59-.52 0-1.04.2-1.43.59L10.3 9.45l-7.72 7.72c-.78.78-.78 2.05 0 2.83L4 21.41c.39.39.9.59 1.41.59.51 0 1.02-.2 1.41-.59l7.78-7.78 2.81-2.81c.8-.78.8-2.07 0-2.86zM5.41 20L4 18.59l7.72-7.72 1.47 1.35L5.41 20z\"/>\n",
              "  </svg>\n",
              "      </button>\n",
              "\n",
              "\n",
              "\n",
              "    <div id=\"df-7c4d856d-6bee-48e2-b2dd-7b1e3ae768fa\">\n",
              "      <button class=\"colab-df-quickchart\" onclick=\"quickchart('df-7c4d856d-6bee-48e2-b2dd-7b1e3ae768fa')\"\n",
              "              title=\"Suggest charts.\"\n",
              "              style=\"display:none;\">\n",
              "\n",
              "<svg xmlns=\"http://www.w3.org/2000/svg\" height=\"24px\"viewBox=\"0 0 24 24\"\n",
              "     width=\"24px\">\n",
              "    <g>\n",
              "        <path d=\"M19 3H5c-1.1 0-2 .9-2 2v14c0 1.1.9 2 2 2h14c1.1 0 2-.9 2-2V5c0-1.1-.9-2-2-2zM9 17H7v-7h2v7zm4 0h-2V7h2v10zm4 0h-2v-4h2v4z\"/>\n",
              "    </g>\n",
              "</svg>\n",
              "      </button>\n",
              "    </div>\n",
              "\n",
              "<style>\n",
              "  .colab-df-quickchart {\n",
              "    background-color: #E8F0FE;\n",
              "    border: none;\n",
              "    border-radius: 50%;\n",
              "    cursor: pointer;\n",
              "    display: none;\n",
              "    fill: #1967D2;\n",
              "    height: 32px;\n",
              "    padding: 0 0 0 0;\n",
              "    width: 32px;\n",
              "  }\n",
              "\n",
              "  .colab-df-quickchart:hover {\n",
              "    background-color: #E2EBFA;\n",
              "    box-shadow: 0px 1px 2px rgba(60, 64, 67, 0.3), 0px 1px 3px 1px rgba(60, 64, 67, 0.15);\n",
              "    fill: #174EA6;\n",
              "  }\n",
              "\n",
              "  [theme=dark] .colab-df-quickchart {\n",
              "    background-color: #3B4455;\n",
              "    fill: #D2E3FC;\n",
              "  }\n",
              "\n",
              "  [theme=dark] .colab-df-quickchart:hover {\n",
              "    background-color: #434B5C;\n",
              "    box-shadow: 0px 1px 3px 1px rgba(0, 0, 0, 0.15);\n",
              "    filter: drop-shadow(0px 1px 2px rgba(0, 0, 0, 0.3));\n",
              "    fill: #FFFFFF;\n",
              "  }\n",
              "</style>\n",
              "\n",
              "    <script>\n",
              "      async function quickchart(key) {\n",
              "        const containerElement = document.querySelector('#' + key);\n",
              "        const charts = await google.colab.kernel.invokeFunction(\n",
              "            'suggestCharts', [key], {});\n",
              "      }\n",
              "    </script>\n",
              "\n",
              "      <script>\n",
              "\n",
              "function displayQuickchartButton(domScope) {\n",
              "  let quickchartButtonEl =\n",
              "    domScope.querySelector('#df-7c4d856d-6bee-48e2-b2dd-7b1e3ae768fa button.colab-df-quickchart');\n",
              "  quickchartButtonEl.style.display =\n",
              "    google.colab.kernel.accessAllowed ? 'block' : 'none';\n",
              "}\n",
              "\n",
              "        displayQuickchartButton(document);\n",
              "      </script>\n",
              "      <style>\n",
              "    .colab-df-container {\n",
              "      display:flex;\n",
              "      flex-wrap:wrap;\n",
              "      gap: 12px;\n",
              "    }\n",
              "\n",
              "    .colab-df-convert {\n",
              "      background-color: #E8F0FE;\n",
              "      border: none;\n",
              "      border-radius: 50%;\n",
              "      cursor: pointer;\n",
              "      display: none;\n",
              "      fill: #1967D2;\n",
              "      height: 32px;\n",
              "      padding: 0 0 0 0;\n",
              "      width: 32px;\n",
              "    }\n",
              "\n",
              "    .colab-df-convert:hover {\n",
              "      background-color: #E2EBFA;\n",
              "      box-shadow: 0px 1px 2px rgba(60, 64, 67, 0.3), 0px 1px 3px 1px rgba(60, 64, 67, 0.15);\n",
              "      fill: #174EA6;\n",
              "    }\n",
              "\n",
              "    [theme=dark] .colab-df-convert {\n",
              "      background-color: #3B4455;\n",
              "      fill: #D2E3FC;\n",
              "    }\n",
              "\n",
              "    [theme=dark] .colab-df-convert:hover {\n",
              "      background-color: #434B5C;\n",
              "      box-shadow: 0px 1px 3px 1px rgba(0, 0, 0, 0.15);\n",
              "      filter: drop-shadow(0px 1px 2px rgba(0, 0, 0, 0.3));\n",
              "      fill: #FFFFFF;\n",
              "    }\n",
              "  </style>\n",
              "\n",
              "      <script>\n",
              "        const buttonEl =\n",
              "          document.querySelector('#df-8af2fcc3-aa6f-4421-b2e9-0549c5c3145e button.colab-df-convert');\n",
              "        buttonEl.style.display =\n",
              "          google.colab.kernel.accessAllowed ? 'block' : 'none';\n",
              "\n",
              "        async function convertToInteractive(key) {\n",
              "          const element = document.querySelector('#df-8af2fcc3-aa6f-4421-b2e9-0549c5c3145e');\n",
              "          const dataTable =\n",
              "            await google.colab.kernel.invokeFunction('convertToInteractive',\n",
              "                                                     [key], {});\n",
              "          if (!dataTable) return;\n",
              "\n",
              "          const docLinkHtml = 'Like what you see? Visit the ' +\n",
              "            '<a target=\"_blank\" href=https://colab.research.google.com/notebooks/data_table.ipynb>data table notebook</a>'\n",
              "            + ' to learn more about interactive tables.';\n",
              "          element.innerHTML = '';\n",
              "          dataTable['output_type'] = 'display_data';\n",
              "          await google.colab.output.renderOutput(dataTable, element);\n",
              "          const docLink = document.createElement('div');\n",
              "          docLink.innerHTML = docLinkHtml;\n",
              "          element.appendChild(docLink);\n",
              "        }\n",
              "      </script>\n",
              "    </div>\n",
              "  </div>\n"
            ]
          },
          "metadata": {},
          "execution_count": 15
        }
      ]
    },
    {
      "cell_type": "code",
      "source": [
        "# calculate the Bag of Word in news data\n",
        "message_bow = CountVectorizer().fit_transform(np.array(list(news_data['News Title (Lemmatization)'])))\n",
        "message_bow.shape"
      ],
      "metadata": {
        "colab": {
          "base_uri": "https://localhost:8080/"
        },
        "id": "y4Jmd4iTtB5q",
        "outputId": "eb9819ca-a4e5-40e4-daee-0f86122e429a"
      },
      "execution_count": null,
      "outputs": [
        {
          "output_type": "execute_result",
          "data": {
            "text/plain": [
              "(65535, 29645)"
            ]
          },
          "metadata": {},
          "execution_count": 16
        }
      ]
    },
    {
      "cell_type": "code",
      "source": [
        "#split the dataset into 80% training data and 20% testing data\n",
        "X_train_bow, X_test_bow, y_train_bow, y_test_bow = train_test_split(message_bow, news_data['Category'], test_size=0.20, random_state=0)\n"
      ],
      "metadata": {
        "id": "sTl-oJ0Xu5f8"
      },
      "execution_count": null,
      "outputs": []
    },
    {
      "cell_type": "code",
      "source": [
        "# naive-bayes model\n",
        "def modelling(model, X_train, y_train, X_text, y_test):\n",
        "  #basic machine learning\n",
        "  MNB = model\n",
        "  MNB.fit(X_train, y_train)\n",
        "\n",
        "  y_train_pred = MNB.predict(X_train)\n",
        "  y_test_pred = MNB.predict(X_text)\n",
        "\n",
        "  # Compute accuracy on training set\n",
        "  train_accuracy = MNB.score(X_train, y_train)\n",
        "\n",
        "  # Compute accuracy on testing set\n",
        "  test_accuracy = MNB.score(X_text, y_test)\n",
        "\n",
        "  print('Training accuracy {:.2f}%'.format(train_accuracy*100))\n",
        "  print('Testing accuracy {:.2f}%'.format(test_accuracy*100))"
      ],
      "metadata": {
        "id": "kZFBdZ9ewcG5"
      },
      "execution_count": null,
      "outputs": []
    },
    {
      "cell_type": "code",
      "source": [
        "# modelling and test the model with the test data\n",
        "modelling(MultinomialNB(), X_train_bow, y_train_bow, X_test_bow, y_test_bow)"
      ],
      "metadata": {
        "colab": {
          "base_uri": "https://localhost:8080/"
        },
        "id": "xJ1VqTt6wew4",
        "outputId": "08f4cceb-dd2e-445d-df8b-4578b764926c"
      },
      "execution_count": null,
      "outputs": [
        {
          "output_type": "stream",
          "name": "stdout",
          "text": [
            "Training accuracy 93.75%\n",
            "Testing accuracy 90.67%\n"
          ]
        }
      ]
    },
    {
      "cell_type": "markdown",
      "source": [
        "###TF-IDF\n"
      ],
      "metadata": {
        "id": "ozOWrZSuxTkw"
      }
    },
    {
      "cell_type": "code",
      "source": [
        "idf_matrix = TfidfVectorizer(min_df=0., max_df=1., use_idf=True).fit_transform(np.array(list(news_data['News Title (Lemmatization)'])))\n",
        "idf_matrix.shape"
      ],
      "metadata": {
        "colab": {
          "base_uri": "https://localhost:8080/"
        },
        "id": "1ErV8p2ewhSe",
        "outputId": "fba0fbed-fd56-421b-a4e4-8db3adef44d8"
      },
      "execution_count": null,
      "outputs": [
        {
          "output_type": "execute_result",
          "data": {
            "text/plain": [
              "(65535, 29645)"
            ]
          },
          "metadata": {},
          "execution_count": 20
        }
      ]
    },
    {
      "cell_type": "code",
      "source": [
        "#split the dataset into 80% training data and 20% testing data\n",
        "X_train_idf, X_test_idf, y_train_idf, y_test_idf = train_test_split(idf_matrix, news_data['Category'], test_size=0.20, random_state=0)"
      ],
      "metadata": {
        "id": "4LDVeydnxf6Y"
      },
      "execution_count": null,
      "outputs": []
    },
    {
      "cell_type": "code",
      "source": [
        "# modelling and test the model with the test data\n",
        "modelling(MultinomialNB(), X_train_idf, y_train_idf, X_test_idf, y_test_idf)"
      ],
      "metadata": {
        "colab": {
          "base_uri": "https://localhost:8080/"
        },
        "id": "qT8KcHS5xjKe",
        "outputId": "a56d399a-cf9b-4531-cde9-3f5d8f9aad6d"
      },
      "execution_count": null,
      "outputs": [
        {
          "output_type": "stream",
          "name": "stdout",
          "text": [
            "Training accuracy 92.68%\n",
            "Testing accuracy 89.67%\n"
          ]
        }
      ]
    },
    {
      "cell_type": "markdown",
      "source": [
        "## **Logistic Regression Model with TF-IDF**\n"
      ],
      "metadata": {
        "id": "4F5hdJ7QyUbX"
      }
    },
    {
      "cell_type": "code",
      "source": [
        "def modelling2(model, X_train, y_train, X_test, y_test):\n",
        "    lr_model = model\n",
        "    lr_model.fit(X_train, y_train)\n",
        "\n",
        "    y_train_pred = lr_model.predict(X_train)\n",
        "    y_test_pred = lr_model.predict(X_test)\n",
        "\n",
        "    # Compute accuracy on training set\n",
        "    train_accuracy = lr_model.score(X_train, y_train)\n",
        "\n",
        "    # Compute accuracy on testing set\n",
        "    test_accuracy = lr_model.score(X_test, y_test)\n",
        "\n",
        "    print('Training accuracy: {:.2f}%'.format(train_accuracy * 100))\n",
        "    print('Testing accuracy: {:.2f}%'.format(test_accuracy * 100))"
      ],
      "metadata": {
        "id": "0MjAcV0ExlrM"
      },
      "execution_count": null,
      "outputs": []
    },
    {
      "cell_type": "code",
      "source": [
        "# modelling and test the model with the test data\n",
        "modelling2(LogisticRegression(max_iter=1000), X_train_idf, y_train_idf, X_test_idf, y_test_idf)"
      ],
      "metadata": {
        "colab": {
          "base_uri": "https://localhost:8080/"
        },
        "id": "VdCaCD_dybnv",
        "outputId": "b93bbdfa-95d4-4a98-c891-f87e01619270"
      },
      "execution_count": null,
      "outputs": [
        {
          "output_type": "stream",
          "name": "stdout",
          "text": [
            "Training accuracy: 95.34%\n",
            "Testing accuracy: 91.10%\n"
          ]
        }
      ]
    },
    {
      "cell_type": "code",
      "source": [],
      "metadata": {
        "id": "mzK-O7mcyxPG"
      },
      "execution_count": null,
      "outputs": []
    }
  ]
}